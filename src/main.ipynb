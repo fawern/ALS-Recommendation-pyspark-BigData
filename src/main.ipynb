{
 "cells": [
  {
   "cell_type": "code",
   "execution_count": 5,
   "metadata": {},
   "outputs": [],
   "source": [
    "import warnings\n",
    "warnings.filterwarnings(\"ignore\")"
   ]
  },
  {
   "cell_type": "code",
   "execution_count": 6,
   "metadata": {},
   "outputs": [
    {
     "name": "stdout",
     "output_type": "stream",
     "text": [
      "Host Name : fawern\n",
      "Ip Adress : 192.168.1.107\n"
     ]
    }
   ],
   "source": [
    "import socket\n",
    "\n",
    "host_name = socket.gethostname()\n",
    "\n",
    "IP_adress = socket.gethostbyname(host_name)\n",
    "\n",
    "print(f\"Host Name : {host_name}\")\n",
    "print(f\"Ip Adress : {IP_adress}\")"
   ]
  },
  {
   "cell_type": "code",
   "execution_count": 94,
   "metadata": {},
   "outputs": [],
   "source": [
    "import numpy as np \n",
    "import pandas as pd\n",
    "from datasets import load_dataset\n",
    "\n",
    "import matplotlib.pyplot as plt"
   ]
  },
  {
   "cell_type": "code",
   "execution_count": 1,
   "metadata": {},
   "outputs": [],
   "source": [
    "from pyspark import SparkConf\n",
    "from pyspark import SparkContext\n",
    "from pyspark.sql import SparkSession\n",
    "\n",
    "from pyspark.ml.feature import StringIndexer\n",
    "from pyspark.ml import Pipeline\n",
    "\n",
    "from pyspark.ml.recommendation import ALS\n",
    "\n",
    "from pyspark.ml.evaluation import RegressionEvaluator\n",
    "\n",
    "from itertools import product"
   ]
  },
  {
   "cell_type": "code",
   "execution_count": 9,
   "metadata": {},
   "outputs": [],
   "source": [
    "try:\n",
    "    sc = SparkContext.getOrCreate()\n",
    "\n",
    "    if sc:\n",
    "        sc.stop()\n",
    "except Exception as e:\n",
    "    print(e)\n",
    "\n",
    "conf = SparkConf().setAppName(\"Recommendation\")\n",
    "sc = SparkContext(conf=conf).getOrCreate()\n",
    "spark = SparkSession(sparkContext=sc)"
   ]
  },
  {
   "cell_type": "code",
   "execution_count": 10,
   "metadata": {},
   "outputs": [
    {
     "name": "stderr",
     "output_type": "stream",
     "text": [
      "Found cached dataset parquet (C:/Users/90530/.cache/huggingface/datasets/ashraq___parquet/ashraq--movielens_ratings-139b1d983e5c8861/0.0.0/2a3b91fbd88a2c90d1dbbb32b460cf621d31bd5b05b934492fdef7d8d6f236ec)\n"
     ]
    },
    {
     "data": {
      "application/vnd.jupyter.widget-view+json": {
       "model_id": "0f7da5b8a05c42a69e91608a4cd5dddc",
       "version_major": 2,
       "version_minor": 0
      },
      "text/plain": [
       "  0%|          | 0/2 [00:00<?, ?it/s]"
      ]
     },
     "metadata": {},
     "output_type": "display_data"
    }
   ],
   "source": [
    "dataset = load_dataset(\"ashraq/movielens_ratings\")  \n",
    "\n",
    "df_train = dataset['train'].to_pandas().iloc[:, 2:5]\n",
    "df_val = dataset['validation'].to_pandas().iloc[:, 2:5]"
   ]
  },
  {
   "cell_type": "code",
   "execution_count": 11,
   "metadata": {},
   "outputs": [],
   "source": [
    "df_train.to_csv(\"../Datas/df_train.csv\", index=False)\n",
    "df_val.to_csv('../Datas/df_val.csv', index=False)"
   ]
  },
  {
   "cell_type": "code",
   "execution_count": 12,
   "metadata": {},
   "outputs": [
    {
     "data": {
      "text/html": [
       "\n",
       "        <div>\n",
       "            <p><b>SparkContext</b></p>\n",
       "\n",
       "            <p><a href=\"http://fawern:4040\">Spark UI</a></p>\n",
       "\n",
       "            <dl>\n",
       "              <dt>Version</dt>\n",
       "                <dd><code>v3.4.1</code></dd>\n",
       "              <dt>Master</dt>\n",
       "                <dd><code>local[*]</code></dd>\n",
       "              <dt>AppName</dt>\n",
       "                <dd><code>Recommendation</code></dd>\n",
       "            </dl>\n",
       "        </div>\n",
       "        "
      ],
      "text/plain": [
       "<SparkContext master=local[*] appName=Recommendation>"
      ]
     },
     "execution_count": 12,
     "metadata": {},
     "output_type": "execute_result"
    }
   ],
   "source": [
    "sc"
   ]
  },
  {
   "cell_type": "code",
   "execution_count": 13,
   "metadata": {},
   "outputs": [
    {
     "name": "stdout",
     "output_type": "stream",
     "text": [
      "App Name : Recommendation\n",
      "Version : 3.4.1\n",
      "Spark User : 90530\n"
     ]
    }
   ],
   "source": [
    "print(f'App Name : {sc.appName}')\n",
    "print(f'Version : {sc.version}')\n",
    "print(f\"Spark User : {sc.sparkUser()}\")"
   ]
  },
  {
   "cell_type": "code",
   "execution_count": 14,
   "metadata": {},
   "outputs": [],
   "source": [
    "df_rating_train = spark.read.csv(\"../Datas/df_train.csv\", header=True, inferSchema=True)\n",
    "df_rating_val = spark.read.csv(\"../Datas/df_val.csv\", header=True, inferSchema=True)\n",
    "\n",
    "concat_data = df_rating_train.union(df_rating_val)"
   ]
  },
  {
   "cell_type": "code",
   "execution_count": 15,
   "metadata": {},
   "outputs": [],
   "source": [
    "df_rating_train = spark.read.csv(\"../Datas/df_train.csv\", header=True, inferSchema=True)\n",
    "df_rating_val = spark.read.csv(\"../Datas/df_val.csv\", header=True, inferSchema=True)\n",
    "\n",
    "# concat_data = df_rating_train.union(df_rating_val).limit(10000)\n",
    "concat_data = df_rating_train.union(df_rating_val)"
   ]
  },
  {
   "cell_type": "code",
   "execution_count": 16,
   "metadata": {},
   "outputs": [
    {
     "name": "stdout",
     "output_type": "stream",
     "text": [
      "Number of concat rows : 990425\n",
      "Number of concat movie : 15603\n"
     ]
    }
   ],
   "source": [
    "num_rows = concat_data.count()\n",
    "num_uniq_movies = len(concat_data.select(\"movie_id\").distinct().collect())\n",
    "\n",
    "print(f\"Number of concat rows : {num_rows}\")\n",
    "print(f\"Number of concat movie : {num_uniq_movies}\")"
   ]
  },
  {
   "cell_type": "code",
   "execution_count": 17,
   "metadata": {},
   "outputs": [
    {
     "name": "stdout",
     "output_type": "stream",
     "text": [
      "root\n",
      " |-- movie_id: integer (nullable = true)\n",
      " |-- user_id: integer (nullable = true)\n",
      " |-- rating: double (nullable = true)\n",
      "\n"
     ]
    }
   ],
   "source": [
    "concat_data.printSchema()"
   ]
  },
  {
   "cell_type": "code",
   "execution_count": 18,
   "metadata": {},
   "outputs": [
    {
     "name": "stdout",
     "output_type": "stream",
     "text": [
      "+--------+-------+------+\n",
      "|movie_id|user_id|rating|\n",
      "+--------+-------+------+\n",
      "|    2307|  11923|   3.5|\n",
      "|    7157|  32503|   3.0|\n",
      "|    1398|  20241|   3.0|\n",
      "|    2625|  42975|   5.0|\n",
      "|    8457|  31336|   3.0|\n",
      "|    2230|  38922|   4.0|\n",
      "|    5110|  41802|   3.5|\n",
      "|     935|  36706|   3.5|\n",
      "|     936|  21320|   5.0|\n",
      "|    8960|   2930|   2.5|\n",
      "+--------+-------+------+\n",
      "only showing top 10 rows\n",
      "\n"
     ]
    }
   ],
   "source": [
    "concat_data.show(10)"
   ]
  },
  {
   "cell_type": "code",
   "execution_count": 19,
   "metadata": {},
   "outputs": [
    {
     "data": {
      "text/plain": [
       "<Axes: >"
      ]
     },
     "execution_count": 19,
     "metadata": {},
     "output_type": "execute_result"
    },
    {
     "data": {
      "image/png": "[encoded data removed]",
      "text/plain": [
       "<Figure size 640x480 with 1 Axes>"
      ]
     },
     "metadata": {},
     "output_type": "display_data"
    }
   ],
   "source": [
    "rating_list = [rating[0] for rating in concat_data.select(\"rating\").collect()]\n",
    "pd.DataFrame(rating_list).value_counts().plot(kind='pie')"
   ]
  },
  {
   "cell_type": "code",
   "execution_count": 101,
   "metadata": {},
   "outputs": [
    {
     "data": {
      "text/plain": [
       "Text(0, 0.5, 'Frequency')"
      ]
     },
     "execution_count": 101,
     "metadata": {},
     "output_type": "execute_result"
    },
    {
     "data": {
      "image/png": "[encoded data removed]",
      "text/plain": [
       "<Figure size 640x480 with 1 Axes>"
      ]
     },
     "metadata": {},
     "output_type": "display_data"
    }
   ],
   "source": [
    "bin_edges = np.arange(0.5, 5.5, step=0.5)\n",
    "\n",
    "plt.hist(\n",
    "    rating_list, bins=bin_edges, histtype='bar'\n",
    ")\n",
    "\n",
    "plt.title(\"Rating Histogram\")\n",
    "plt.xlabel('Rating')    \n",
    "plt.ylabel('Frequency')"
   ]
  },
  {
   "cell_type": "code",
   "execution_count": 20,
   "metadata": {},
   "outputs": [],
   "source": [
    "indexer_movie = StringIndexer(inputCol='movie_id', outputCol='movie_index')\n",
    "indexer_user = StringIndexer(inputCol='user_id', outputCol='user_index')    "
   ]
  },
  {
   "cell_type": "code",
   "execution_count": 21,
   "metadata": {},
   "outputs": [
    {
     "name": "stdout",
     "output_type": "stream",
     "text": [
      "+--------+-------+------+-----------+----------+\n",
      "|movie_id|user_id|rating|movie_index|user_index|\n",
      "+--------+-------+------+-----------+----------+\n",
      "|    2307|  11923|   3.5|        3.0|    3546.0|\n",
      "|    7157|  32503|   3.0|     3137.0|     587.0|\n",
      "|    1398|  20241|   3.0|       20.0|    9092.0|\n",
      "|    2625|  42975|   5.0|       78.0|    6216.0|\n",
      "|    8457|  31336|   3.0|      303.0|     716.0|\n",
      "|    2230|  38922|   4.0|        0.0|    2575.0|\n",
      "|    5110|  41802|   3.5|       96.0|     362.0|\n",
      "|     935|  36706|   3.5|       13.0|    1282.0|\n",
      "|     936|  21320|   5.0|        8.0|   30282.0|\n",
      "|    8960|   2930|   2.5|      105.0|     562.0|\n",
      "+--------+-------+------+-----------+----------+\n",
      "only showing top 10 rows\n",
      "\n"
     ]
    }
   ],
   "source": [
    "pipeline = Pipeline(stages=[indexer_movie, indexer_user])\n",
    "\n",
    "tf_df = pipeline.fit(concat_data).transform(concat_data)\n",
    "\n",
    "tf_df.show(10)"
   ]
  },
  {
   "cell_type": "code",
   "execution_count": 22,
   "metadata": {},
   "outputs": [
    {
     "name": "stdout",
     "output_type": "stream",
     "text": [
      "train count : 891651\n",
      "test count : 98774\n"
     ]
    }
   ],
   "source": [
    "(train_data, test_data) = tf_df.randomSplit([0.9, 0.1], seed=5030)\n",
    "\n",
    "print(f\"train count : {train_data.count()}\")\n",
    "print(f\"test count : {test_data.count()}\")"
   ]
  },
  {
   "cell_type": "code",
   "execution_count": 23,
   "metadata": {},
   "outputs": [
    {
     "name": "stdout",
     "output_type": "stream",
     "text": [
      "\u001b[1;31mInit signature:\u001b[0m\n",
      "\u001b[0mALS\u001b[0m\u001b[1;33m(\u001b[0m\u001b[1;33m\n",
      "\u001b[0m    \u001b[1;33m*\u001b[0m\u001b[1;33m,\u001b[0m\u001b[1;33m\n",
      "\u001b[0m    \u001b[0mrank\u001b[0m\u001b[1;33m:\u001b[0m \u001b[0mint\u001b[0m \u001b[1;33m=\u001b[0m \u001b[1;36m10\u001b[0m\u001b[1;33m,\u001b[0m\u001b[1;33m\n",
      "\u001b[0m    \u001b[0mmaxIter\u001b[0m\u001b[1;33m:\u001b[0m \u001b[0mint\u001b[0m \u001b[1;33m=\u001b[0m \u001b[1;36m10\u001b[0m\u001b[1;33m,\u001b[0m\u001b[1;33m\n",
      "\u001b[0m    \u001b[0mregParam\u001b[0m\u001b[1;33m:\u001b[0m \u001b[0mfloat\u001b[0m \u001b[1;33m=\u001b[0m \u001b[1;36m0.1\u001b[0m\u001b[1;33m,\u001b[0m\u001b[1;33m\n",
      "\u001b[0m    \u001b[0mnumUserBlocks\u001b[0m\u001b[1;33m:\u001b[0m \u001b[0mint\u001b[0m \u001b[1;33m=\u001b[0m \u001b[1;36m10\u001b[0m\u001b[1;33m,\u001b[0m\u001b[1;33m\n",
      "\u001b[0m    \u001b[0mnumItemBlocks\u001b[0m\u001b[1;33m:\u001b[0m \u001b[0mint\u001b[0m \u001b[1;33m=\u001b[0m \u001b[1;36m10\u001b[0m\u001b[1;33m,\u001b[0m\u001b[1;33m\n",
      "\u001b[0m    \u001b[0mimplicitPrefs\u001b[0m\u001b[1;33m:\u001b[0m \u001b[0mbool\u001b[0m \u001b[1;33m=\u001b[0m \u001b[1;32mFalse\u001b[0m\u001b[1;33m,\u001b[0m\u001b[1;33m\n",
      "\u001b[0m    \u001b[0malpha\u001b[0m\u001b[1;33m:\u001b[0m \u001b[0mfloat\u001b[0m \u001b[1;33m=\u001b[0m \u001b[1;36m1.0\u001b[0m\u001b[1;33m,\u001b[0m\u001b[1;33m\n",
      "\u001b[0m    \u001b[0muserCol\u001b[0m\u001b[1;33m:\u001b[0m \u001b[0mstr\u001b[0m \u001b[1;33m=\u001b[0m \u001b[1;34m'user'\u001b[0m\u001b[1;33m,\u001b[0m\u001b[1;33m\n",
      "\u001b[0m    \u001b[0mitemCol\u001b[0m\u001b[1;33m:\u001b[0m \u001b[0mstr\u001b[0m \u001b[1;33m=\u001b[0m \u001b[1;34m'item'\u001b[0m\u001b[1;33m,\u001b[0m\u001b[1;33m\n",
      "\u001b[0m    \u001b[0mseed\u001b[0m\u001b[1;33m:\u001b[0m \u001b[0mOptional\u001b[0m\u001b[1;33m[\u001b[0m\u001b[0mint\u001b[0m\u001b[1;33m]\u001b[0m \u001b[1;33m=\u001b[0m \u001b[1;32mNone\u001b[0m\u001b[1;33m,\u001b[0m\u001b[1;33m\n",
      "\u001b[0m    \u001b[0mratingCol\u001b[0m\u001b[1;33m:\u001b[0m \u001b[0mstr\u001b[0m \u001b[1;33m=\u001b[0m \u001b[1;34m'rating'\u001b[0m\u001b[1;33m,\u001b[0m\u001b[1;33m\n",
      "\u001b[0m    \u001b[0mnonnegative\u001b[0m\u001b[1;33m:\u001b[0m \u001b[0mbool\u001b[0m \u001b[1;33m=\u001b[0m \u001b[1;32mFalse\u001b[0m\u001b[1;33m,\u001b[0m\u001b[1;33m\n",
      "\u001b[0m    \u001b[0mcheckpointInterval\u001b[0m\u001b[1;33m:\u001b[0m \u001b[0mint\u001b[0m \u001b[1;33m=\u001b[0m \u001b[1;36m10\u001b[0m\u001b[1;33m,\u001b[0m\u001b[1;33m\n",
      "\u001b[0m    \u001b[0mintermediateStorageLevel\u001b[0m\u001b[1;33m:\u001b[0m \u001b[0mstr\u001b[0m \u001b[1;33m=\u001b[0m \u001b[1;34m'MEMORY_AND_DISK'\u001b[0m\u001b[1;33m,\u001b[0m\u001b[1;33m\n",
      "\u001b[0m    \u001b[0mfinalStorageLevel\u001b[0m\u001b[1;33m:\u001b[0m \u001b[0mstr\u001b[0m \u001b[1;33m=\u001b[0m \u001b[1;34m'MEMORY_AND_DISK'\u001b[0m\u001b[1;33m,\u001b[0m\u001b[1;33m\n",
      "\u001b[0m    \u001b[0mcoldStartStrategy\u001b[0m\u001b[1;33m:\u001b[0m \u001b[0mstr\u001b[0m \u001b[1;33m=\u001b[0m \u001b[1;34m'nan'\u001b[0m\u001b[1;33m,\u001b[0m\u001b[1;33m\n",
      "\u001b[0m    \u001b[0mblockSize\u001b[0m\u001b[1;33m:\u001b[0m \u001b[0mint\u001b[0m \u001b[1;33m=\u001b[0m \u001b[1;36m4096\u001b[0m\u001b[1;33m,\u001b[0m\u001b[1;33m\n",
      "\u001b[0m\u001b[1;33m)\u001b[0m\u001b[1;33m\u001b[0m\u001b[1;33m\u001b[0m\u001b[0m\n",
      "\u001b[1;31mDocstring:\u001b[0m     \n",
      "Alternating Least Squares (ALS) matrix factorization.\n",
      "\n",
      "ALS attempts to estimate the ratings matrix `R` as the product of\n",
      "two lower-rank matrices, `X` and `Y`, i.e. `X * Yt = R`. Typically\n",
      "these approximations are called 'factor' matrices. The general\n",
      "approach is iterative. During each iteration, one of the factor\n",
      "matrices is held constant, while the other is solved for using least\n",
      "squares. The newly-solved factor matrix is then held constant while\n",
      "solving for the other factor matrix.\n",
      "\n",
      "This is a blocked implementation of the ALS factorization algorithm\n",
      "that groups the two sets of factors (referred to as \"users\" and\n",
      "\"products\") into blocks and reduces communication by only sending\n",
      "one copy of each user vector to each product block on each\n",
      "iteration, and only for the product blocks that need that user's\n",
      "feature vector. This is achieved by pre-computing some information\n",
      "about the ratings matrix to determine the \"out-links\" of each user\n",
      "(which blocks of products it will contribute to) and \"in-link\"\n",
      "information for each product (which of the feature vectors it\n",
      "receives from each user block it will depend on). This allows us to\n",
      "send only an array of feature vectors between each user block and\n",
      "product block, and have the product block find the users' ratings\n",
      "and update the products based on these messages.\n",
      "\n",
      "For implicit preference data, the algorithm used is based on\n",
      "`\"Collaborative Filtering for Implicit Feedback Datasets\",\n",
      "<https://doi.org/10.1109/ICDM.2008.22>`_, adapted for the blocked\n",
      "approach used here.\n",
      "\n",
      "Essentially instead of finding the low-rank approximations to the\n",
      "rating matrix `R`, this finds the approximations for a preference\n",
      "matrix `P` where the elements of `P` are 1 if r > 0 and 0 if r <= 0.\n",
      "The ratings then act as 'confidence' values related to strength of\n",
      "indicated user preferences rather than explicit ratings given to\n",
      "items.\n",
      "\n",
      ".. versionadded:: 1.4.0\n",
      "\n",
      "Notes\n",
      "-----\n",
      "The input rating dataframe to the ALS implementation should be deterministic.\n",
      "Nondeterministic data can cause failure during fitting ALS model.\n",
      "For example, an order-sensitive operation like sampling after a repartition makes\n",
      "dataframe output nondeterministic, like `df.repartition(2).sample(False, 0.5, 1618)`.\n",
      "Checkpointing sampled dataframe or adding a sort before sampling can help make the\n",
      "dataframe deterministic.\n",
      "\n",
      "Examples\n",
      "--------\n",
      ">>> df = spark.createDataFrame(\n",
      "...     [(0, 0, 4.0), (0, 1, 2.0), (1, 1, 3.0), (1, 2, 4.0), (2, 1, 1.0), (2, 2, 5.0)],\n",
      "...     [\"user\", \"item\", \"rating\"])\n",
      ">>> als = ALS(rank=10, seed=0)\n",
      ">>> als.setMaxIter(5)\n",
      "ALS...\n",
      ">>> als.getMaxIter()\n",
      "5\n",
      ">>> als.setRegParam(0.1)\n",
      "ALS...\n",
      ">>> als.getRegParam()\n",
      "0.1\n",
      ">>> als.clear(als.regParam)\n",
      ">>> model = als.fit(df)\n",
      ">>> model.getBlockSize()\n",
      "4096\n",
      ">>> model.getUserCol()\n",
      "'user'\n",
      ">>> model.setUserCol(\"user\")\n",
      "ALSModel...\n",
      ">>> model.getItemCol()\n",
      "'item'\n",
      ">>> model.setPredictionCol(\"newPrediction\")\n",
      "ALS...\n",
      ">>> model.rank\n",
      "10\n",
      ">>> model.userFactors.orderBy(\"id\").collect()\n",
      "[Row(id=0, features=[...]), Row(id=1, ...), Row(id=2, ...)]\n",
      ">>> test = spark.createDataFrame([(0, 2), (1, 0), (2, 0)], [\"user\", \"item\"])\n",
      ">>> predictions = sorted(model.transform(test).collect(), key=lambda r: r[0])\n",
      ">>> predictions[0]\n",
      "Row(user=0, item=2, newPrediction=0.6929...)\n",
      ">>> predictions[1]\n",
      "Row(user=1, item=0, newPrediction=3.47356...)\n",
      ">>> predictions[2]\n",
      "Row(user=2, item=0, newPrediction=-0.899198...)\n",
      ">>> user_recs = model.recommendForAllUsers(3)\n",
      ">>> user_recs.where(user_recs.user == 0)        .select(\"recommendations.item\", \"recommendations.rating\").collect()\n",
      "[Row(item=[0, 1, 2], rating=[3.910..., 1.997..., 0.692...])]\n",
      ">>> item_recs = model.recommendForAllItems(3)\n",
      ">>> item_recs.where(item_recs.item == 2)        .select(\"recommendations.user\", \"recommendations.rating\").collect()\n",
      "[Row(user=[2, 1, 0], rating=[4.892..., 3.991..., 0.692...])]\n",
      ">>> user_subset = df.where(df.user == 2)\n",
      ">>> user_subset_recs = model.recommendForUserSubset(user_subset, 3)\n",
      ">>> user_subset_recs.select(\"recommendations.item\", \"recommendations.rating\").first()\n",
      "Row(item=[2, 1, 0], rating=[4.892..., 1.076..., -0.899...])\n",
      ">>> item_subset = df.where(df.item == 0)\n",
      ">>> item_subset_recs = model.recommendForItemSubset(item_subset, 3)\n",
      ">>> item_subset_recs.select(\"recommendations.user\", \"recommendations.rating\").first()\n",
      "Row(user=[0, 1, 2], rating=[3.910..., 3.473..., -0.899...])\n",
      ">>> als_path = temp_path + \"/als\"\n",
      ">>> als.save(als_path)\n",
      ">>> als2 = ALS.load(als_path)\n",
      ">>> als.getMaxIter()\n",
      "5\n",
      ">>> model_path = temp_path + \"/als_model\"\n",
      ">>> model.save(model_path)\n",
      ">>> model2 = ALSModel.load(model_path)\n",
      ">>> model.rank == model2.rank\n",
      "True\n",
      ">>> sorted(model.userFactors.collect()) == sorted(model2.userFactors.collect())\n",
      "True\n",
      ">>> sorted(model.itemFactors.collect()) == sorted(model2.itemFactors.collect())\n",
      "True\n",
      ">>> model.transform(test).take(1) == model2.transform(test).take(1)\n",
      "True\n",
      "\u001b[1;31mInit docstring:\u001b[0m\n",
      "__init__(self, \\*, rank=10, maxIter=10, regParam=0.1, numUserBlocks=10,\n",
      "         numItemBlocks=10, implicitPrefs=False, alpha=1.0, userCol=\"user\", itemCol=\"item\",                  seed=None, ratingCol=\"rating\", nonnegative=False, checkpointInterval=10,                  intermediateStorageLevel=\"MEMORY_AND_DISK\",                  finalStorageLevel=\"MEMORY_AND_DISK\", coldStartStrategy=\"nan\", blockSize=4096)\n",
      "\u001b[1;31mFile:\u001b[0m           c:\\users\\90530\\anaconda3\\lib\\site-packages\\pyspark\\ml\\recommendation.py\n",
      "\u001b[1;31mType:\u001b[0m           ABCMeta\n",
      "\u001b[1;31mSubclasses:\u001b[0m     "
     ]
    }
   ],
   "source": [
    "?ALS"
   ]
  },
  {
   "cell_type": "code",
   "execution_count": 24,
   "metadata": {},
   "outputs": [],
   "source": [
    "models = []\n",
    "df = pd.DataFrame(columns=['rank_', 'iteration', 'regParam_', 'model', 'predictions', 'rmse', 'mse'])\n",
    "\n",
    "def als_model(rank_, iteration, regParam_):\n",
    "        als = ALS(\n",
    "                rank = rank_,\n",
    "                maxIter = iteration,\n",
    "                regParam = regParam_, \n",
    "                numUserBlocks = 10, # Default\n",
    "                numItemBlocks = 10, # Default\n",
    "                implicitPrefs = False, # Default\n",
    "                alpha = 1.0, # Default\n",
    "                userCol = 'user_id', # Default\n",
    "                itemCol = 'movie_id', # Default\n",
    "                seed = None, # Default\n",
    "                ratingCol = 'rating', # Default\n",
    "                nonnegative = False, # Default\n",
    "                checkpointInterval = 10, # Default\n",
    "                intermediateStorageLevel = 'MEMORY_AND_DISK', # Default\n",
    "                finalStorageLevel = 'MEMORY_AND_DISK', # Default\n",
    "                coldStartStrategy = 'nan', # Default\n",
    "                blockSize = 4096, # Default\n",
    "        )\n",
    "\n",
    "        model = als.fit(train_data)\n",
    "        model.setPredictionCol(\"predictions\")\n",
    "        predictions = model.transform(test_data)\n",
    "        predictions = predictions.filter(predictions.predictions != float('nan'))\n",
    "\n",
    "        evaluator=RegressionEvaluator(metricName=\"rmse\",labelCol=\"rating\",predictionCol=\"predictions\")\n",
    "        rmse=evaluator.evaluate(predictions)\n",
    "\n",
    "        evaluator2=RegressionEvaluator(metricName=\"mse\",labelCol=\"rating\",predictionCol=\"predictions\")\n",
    "        mse=evaluator2.evaluate(predictions)\n",
    "\n",
    "        models.append(model)\n",
    "        df.loc[len(df)] = [rank_, iteration, regParam_, model, predictions, rmse, mse]"
   ]
  },
  {
   "cell_type": "code",
   "execution_count": 195,
   "metadata": {},
   "outputs": [],
   "source": [
    "rank_params = [10, 50, 200]\n",
    "iteration_params = [10, 20]\n",
    "lambda_params = [0.1, 0.01]\n",
    "\n",
    "for r, i, l in product(rank_params, iteration_params, lambda_params):\n",
    "    als_model(r, i, l)\n",
    "    print(f\"model {len(df)} is done \")"
   ]
  },
  {
   "cell_type": "code",
   "execution_count": 46,
   "metadata": {},
   "outputs": [
    {
     "data": {
      "text/html": [
       "<div>\n",
       "<style scoped>\n",
       "    .dataframe tbody tr th:only-of-type {\n",
       "        vertical-align: middle;\n",
       "    }\n",
       "\n",
       "    .dataframe tbody tr th {\n",
       "        vertical-align: top;\n",
       "    }\n",
       "\n",
       "    .dataframe thead th {\n",
       "        text-align: right;\n",
       "    }\n",
       "</style>\n",
       "<table border=\"1\" class=\"dataframe\">\n",
       "  <thead>\n",
       "    <tr style=\"text-align: right;\">\n",
       "      <th></th>\n",
       "      <th>rank_</th>\n",
       "      <th>iteration</th>\n",
       "      <th>regParam_</th>\n",
       "      <th>model</th>\n",
       "      <th>predictions</th>\n",
       "      <th>rmse</th>\n",
       "    </tr>\n",
       "    <tr>\n",
       "      <th>mse</th>\n",
       "      <th></th>\n",
       "      <th></th>\n",
       "      <th></th>\n",
       "      <th></th>\n",
       "      <th></th>\n",
       "      <th></th>\n",
       "    </tr>\n",
       "  </thead>\n",
       "  <tbody>\n",
       "    <tr>\n",
       "      <th>0.690159</th>\n",
       "      <td>10</td>\n",
       "      <td>20</td>\n",
       "      <td>0.1</td>\n",
       "      <td>ALSModel: uid=ALS_caf31b30a9cf, rank=10</td>\n",
       "      <td>DataFrame[movie_id: int, user_id: int, rating:...</td>\n",
       "      <td>0.830758</td>\n",
       "    </tr>\n",
       "    <tr>\n",
       "      <th>0.690764</th>\n",
       "      <td>50</td>\n",
       "      <td>20</td>\n",
       "      <td>0.1</td>\n",
       "      <td>ALSModel: uid=ALS_7dd9edac96e1, rank=50</td>\n",
       "      <td>DataFrame[movie_id: int, user_id: int, rating:...</td>\n",
       "      <td>0.831122</td>\n",
       "    </tr>\n",
       "    <tr>\n",
       "      <th>0.691836</th>\n",
       "      <td>200</td>\n",
       "      <td>20</td>\n",
       "      <td>0.1</td>\n",
       "      <td>ALSModel: uid=ALS_c0af2dfe74f9, rank=200</td>\n",
       "      <td>DataFrame[movie_id: int, user_id: int, rating:...</td>\n",
       "      <td>0.831767</td>\n",
       "    </tr>\n",
       "    <tr>\n",
       "      <th>0.699129</th>\n",
       "      <td>10</td>\n",
       "      <td>10</td>\n",
       "      <td>0.1</td>\n",
       "      <td>ALSModel: uid=ALS_89896d665241, rank=10</td>\n",
       "      <td>DataFrame[movie_id: int, user_id: int, rating:...</td>\n",
       "      <td>0.836140</td>\n",
       "    </tr>\n",
       "    <tr>\n",
       "      <th>0.716072</th>\n",
       "      <td>50</td>\n",
       "      <td>10</td>\n",
       "      <td>0.1</td>\n",
       "      <td>ALSModel: uid=ALS_77b51b0a74bb, rank=50</td>\n",
       "      <td>DataFrame[movie_id: int, user_id: int, rating:...</td>\n",
       "      <td>0.846210</td>\n",
       "    </tr>\n",
       "  </tbody>\n",
       "</table>\n",
       "</div>"
      ],
      "text/plain": [
       "          rank_  iteration  regParam_  \\\n",
       "mse                                     \n",
       "0.690159     10         20        0.1   \n",
       "0.690764     50         20        0.1   \n",
       "0.691836    200         20        0.1   \n",
       "0.699129     10         10        0.1   \n",
       "0.716072     50         10        0.1   \n",
       "\n",
       "                                             model  \\\n",
       "mse                                                  \n",
       "0.690159   ALSModel: uid=ALS_caf31b30a9cf, rank=10   \n",
       "0.690764   ALSModel: uid=ALS_7dd9edac96e1, rank=50   \n",
       "0.691836  ALSModel: uid=ALS_c0af2dfe74f9, rank=200   \n",
       "0.699129   ALSModel: uid=ALS_89896d665241, rank=10   \n",
       "0.716072   ALSModel: uid=ALS_77b51b0a74bb, rank=50   \n",
       "\n",
       "                                                predictions      rmse  \n",
       "mse                                                                    \n",
       "0.690159  DataFrame[movie_id: int, user_id: int, rating:...  0.830758  \n",
       "0.690764  DataFrame[movie_id: int, user_id: int, rating:...  0.831122  \n",
       "0.691836  DataFrame[movie_id: int, user_id: int, rating:...  0.831767  \n",
       "0.699129  DataFrame[movie_id: int, user_id: int, rating:...  0.836140  \n",
       "0.716072  DataFrame[movie_id: int, user_id: int, rating:...  0.846210  "
      ]
     },
     "execution_count": 46,
     "metadata": {},
     "output_type": "execute_result"
    }
   ],
   "source": [
    "df.groupby('mse').min().head()"
   ]
  },
  {
   "cell_type": "code",
   "execution_count": 47,
   "metadata": {},
   "outputs": [
    {
     "data": {
      "text/html": [
       "<div>\n",
       "<style scoped>\n",
       "    .dataframe tbody tr th:only-of-type {\n",
       "        vertical-align: middle;\n",
       "    }\n",
       "\n",
       "    .dataframe tbody tr th {\n",
       "        vertical-align: top;\n",
       "    }\n",
       "\n",
       "    .dataframe thead th {\n",
       "        text-align: right;\n",
       "    }\n",
       "</style>\n",
       "<table border=\"1\" class=\"dataframe\">\n",
       "  <thead>\n",
       "    <tr style=\"text-align: right;\">\n",
       "      <th></th>\n",
       "      <th>rank_</th>\n",
       "      <th>iteration</th>\n",
       "      <th>regParam_</th>\n",
       "      <th>model</th>\n",
       "      <th>predictions</th>\n",
       "      <th>mse</th>\n",
       "    </tr>\n",
       "    <tr>\n",
       "      <th>rmse</th>\n",
       "      <th></th>\n",
       "      <th></th>\n",
       "      <th></th>\n",
       "      <th></th>\n",
       "      <th></th>\n",
       "      <th></th>\n",
       "    </tr>\n",
       "  </thead>\n",
       "  <tbody>\n",
       "    <tr>\n",
       "      <th>0.830758</th>\n",
       "      <td>10</td>\n",
       "      <td>20</td>\n",
       "      <td>0.1</td>\n",
       "      <td>ALSModel: uid=ALS_caf31b30a9cf, rank=10</td>\n",
       "      <td>DataFrame[movie_id: int, user_id: int, rating:...</td>\n",
       "      <td>0.690159</td>\n",
       "    </tr>\n",
       "    <tr>\n",
       "      <th>0.831122</th>\n",
       "      <td>50</td>\n",
       "      <td>20</td>\n",
       "      <td>0.1</td>\n",
       "      <td>ALSModel: uid=ALS_7dd9edac96e1, rank=50</td>\n",
       "      <td>DataFrame[movie_id: int, user_id: int, rating:...</td>\n",
       "      <td>0.690764</td>\n",
       "    </tr>\n",
       "    <tr>\n",
       "      <th>0.831767</th>\n",
       "      <td>200</td>\n",
       "      <td>20</td>\n",
       "      <td>0.1</td>\n",
       "      <td>ALSModel: uid=ALS_c0af2dfe74f9, rank=200</td>\n",
       "      <td>DataFrame[movie_id: int, user_id: int, rating:...</td>\n",
       "      <td>0.691836</td>\n",
       "    </tr>\n",
       "    <tr>\n",
       "      <th>0.836140</th>\n",
       "      <td>10</td>\n",
       "      <td>10</td>\n",
       "      <td>0.1</td>\n",
       "      <td>ALSModel: uid=ALS_89896d665241, rank=10</td>\n",
       "      <td>DataFrame[movie_id: int, user_id: int, rating:...</td>\n",
       "      <td>0.699129</td>\n",
       "    </tr>\n",
       "    <tr>\n",
       "      <th>0.846210</th>\n",
       "      <td>50</td>\n",
       "      <td>10</td>\n",
       "      <td>0.1</td>\n",
       "      <td>ALSModel: uid=ALS_77b51b0a74bb, rank=50</td>\n",
       "      <td>DataFrame[movie_id: int, user_id: int, rating:...</td>\n",
       "      <td>0.716072</td>\n",
       "    </tr>\n",
       "  </tbody>\n",
       "</table>\n",
       "</div>"
      ],
      "text/plain": [
       "          rank_  iteration  regParam_  \\\n",
       "rmse                                    \n",
       "0.830758     10         20        0.1   \n",
       "0.831122     50         20        0.1   \n",
       "0.831767    200         20        0.1   \n",
       "0.836140     10         10        0.1   \n",
       "0.846210     50         10        0.1   \n",
       "\n",
       "                                             model  \\\n",
       "rmse                                                 \n",
       "0.830758   ALSModel: uid=ALS_caf31b30a9cf, rank=10   \n",
       "0.831122   ALSModel: uid=ALS_7dd9edac96e1, rank=50   \n",
       "0.831767  ALSModel: uid=ALS_c0af2dfe74f9, rank=200   \n",
       "0.836140   ALSModel: uid=ALS_89896d665241, rank=10   \n",
       "0.846210   ALSModel: uid=ALS_77b51b0a74bb, rank=50   \n",
       "\n",
       "                                                predictions       mse  \n",
       "rmse                                                                   \n",
       "0.830758  DataFrame[movie_id: int, user_id: int, rating:...  0.690159  \n",
       "0.831122  DataFrame[movie_id: int, user_id: int, rating:...  0.690764  \n",
       "0.831767  DataFrame[movie_id: int, user_id: int, rating:...  0.691836  \n",
       "0.836140  DataFrame[movie_id: int, user_id: int, rating:...  0.699129  \n",
       "0.846210  DataFrame[movie_id: int, user_id: int, rating:...  0.716072  "
      ]
     },
     "execution_count": 47,
     "metadata": {},
     "output_type": "execute_result"
    }
   ],
   "source": [
    "df.groupby('rmse').min().head()"
   ]
  },
  {
   "cell_type": "code",
   "execution_count": 112,
   "metadata": {},
   "outputs": [
    {
     "name": "stdout",
     "output_type": "stream",
     "text": [
      "models are same\n"
     ]
    }
   ],
   "source": [
    "model_mse = [m for m in models if m == df.groupby('mse').min().iloc[0]['model']][0] \n",
    "\n",
    "model_rmse = [m for m in models if m == df.groupby('rmse').min().iloc[0]['model']][0]\n",
    "\n",
    "\n",
    "if model_rmse == model_mse:\n",
    "    model = model_rmse\n",
    "    print(\"models are same\")\n",
    "else:\n",
    "    print(\"models arenot same\")"
   ]
  },
  {
   "cell_type": "code",
   "execution_count": 116,
   "metadata": {},
   "outputs": [
    {
     "data": {
      "text/html": [
       "<div>\n",
       "<style scoped>\n",
       "    .dataframe tbody tr th:only-of-type {\n",
       "        vertical-align: middle;\n",
       "    }\n",
       "\n",
       "    .dataframe tbody tr th {\n",
       "        vertical-align: top;\n",
       "    }\n",
       "\n",
       "    .dataframe thead th {\n",
       "        text-align: right;\n",
       "    }\n",
       "</style>\n",
       "<table border=\"1\" class=\"dataframe\">\n",
       "  <thead>\n",
       "    <tr style=\"text-align: right;\">\n",
       "      <th></th>\n",
       "      <th>rank_</th>\n",
       "      <th>iteration</th>\n",
       "      <th>regParam_</th>\n",
       "      <th>model</th>\n",
       "      <th>predictions</th>\n",
       "      <th>rmse</th>\n",
       "      <th>mse</th>\n",
       "    </tr>\n",
       "  </thead>\n",
       "  <tbody>\n",
       "    <tr>\n",
       "      <th>2</th>\n",
       "      <td>10</td>\n",
       "      <td>20</td>\n",
       "      <td>0.1</td>\n",
       "      <td>ALSModel: uid=ALS_caf31b30a9cf, rank=10</td>\n",
       "      <td>DataFrame[movie_id: int, user_id: int, rating:...</td>\n",
       "      <td>0.830758</td>\n",
       "      <td>0.690159</td>\n",
       "    </tr>\n",
       "  </tbody>\n",
       "</table>\n",
       "</div>"
      ],
      "text/plain": [
       "   rank_  iteration  regParam_                                    model  \\\n",
       "2     10         20        0.1  ALSModel: uid=ALS_caf31b30a9cf, rank=10   \n",
       "\n",
       "                                         predictions      rmse       mse  \n",
       "2  DataFrame[movie_id: int, user_id: int, rating:...  0.830758  0.690159  "
      ]
     },
     "execution_count": 116,
     "metadata": {},
     "output_type": "execute_result"
    }
   ],
   "source": [
    "df[df['model'] == model]"
   ]
  },
  {
   "cell_type": "code",
   "execution_count": 107,
   "metadata": {},
   "outputs": [
    {
     "data": {
      "text/plain": [
       "[Row(movie_id=86, user_id=471, rating=5.0, movie_index=67.0, user_index=3530.0, predictions=4.380673885345459),\n",
       " Row(movie_id=122, user_id=42834, rating=3.5, movie_index=215.0, user_index=111.0, predictions=2.864773750305176),\n",
       " Row(movie_id=158, user_id=30903, rating=2.0, movie_index=587.0, user_index=5130.0, predictions=3.072054624557495),\n",
       " Row(movie_id=161, user_id=23364, rating=4.0, movie_index=86.0, user_index=27768.0, predictions=3.9790656566619873),\n",
       " Row(movie_id=182, user_id=31983, rating=3.5, movie_index=120.0, user_index=418.0, predictions=3.7553906440734863),\n",
       " Row(movie_id=182, user_id=42834, rating=3.0, movie_index=120.0, user_index=111.0, predictions=3.075294017791748),\n",
       " Row(movie_id=213, user_id=43527, rating=3.5, movie_index=128.0, user_index=8343.0, predictions=2.6689207553863525),\n",
       " Row(movie_id=228, user_id=148, rating=4.0, movie_index=262.0, user_index=140.0, predictions=3.4358553886413574),\n",
       " Row(movie_id=231, user_id=148, rating=3.0, movie_index=108.0, user_index=140.0, predictions=2.904421329498291),\n",
       " Row(movie_id=231, user_id=42834, rating=2.0, movie_index=108.0, user_index=111.0, predictions=2.803157091140747)]"
      ]
     },
     "execution_count": 107,
     "metadata": {},
     "output_type": "execute_result"
    }
   ],
   "source": [
    "predictions = df[df['model'] == model]['predictions'].values[0]\n",
    "predictions.take(10)"
   ]
  },
  {
   "cell_type": "code",
   "execution_count": 49,
   "metadata": {},
   "outputs": [
    {
     "name": "stdout",
     "output_type": "stream",
     "text": [
      "6.248376846313477\n",
      "6.206021785736084\n",
      "6.082241058349609\n",
      "5.799007415771484\n",
      "5.753098487854004\n",
      "5.7023186683654785\n",
      "5.5785064697265625\n",
      "5.552544116973877\n",
      "5.527855396270752\n",
      "5.525574684143066\n"
     ]
    }
   ],
   "source": [
    "from pyspark.sql.functions import col\n",
    "test = model.recommendForAllUsers(10).filter(col('user_id')== 3).select(\"recommendations\").collect()\n",
    "for item in test[0][0]:\n",
    "    print(item.rating)"
   ]
  },
  {
   "cell_type": "code",
   "execution_count": null,
   "metadata": {},
   "outputs": [],
   "source": [
    "# 5 movies recommendation for user_id = 100\n",
    "user_recs = model.recommendForAllUsers(numItems=5)\n",
    "movie_recommendation = user_recs.where(user_recs.user_id == 100).select(\"recommendations.movie_id\", \"recommendations.rating\").collect()"
   ]
  },
  {
   "cell_type": "code",
   "execution_count": 184,
   "metadata": {},
   "outputs": [
    {
     "data": {
      "text/html": [
       "<div>\n",
       "<style scoped>\n",
       "    .dataframe tbody tr th:only-of-type {\n",
       "        vertical-align: middle;\n",
       "    }\n",
       "\n",
       "    .dataframe tbody tr th {\n",
       "        vertical-align: top;\n",
       "    }\n",
       "\n",
       "    .dataframe thead th {\n",
       "        text-align: right;\n",
       "    }\n",
       "</style>\n",
       "<table border=\"1\" class=\"dataframe\">\n",
       "  <thead>\n",
       "    <tr style=\"text-align: right;\">\n",
       "      <th></th>\n",
       "      <th>userId</th>\n",
       "      <th>movieId</th>\n",
       "      <th>movieRating</th>\n",
       "    </tr>\n",
       "  </thead>\n",
       "  <tbody>\n",
       "    <tr>\n",
       "      <th>0</th>\n",
       "      <td>5.0</td>\n",
       "      <td>14418.0</td>\n",
       "      <td>5.157757</td>\n",
       "    </tr>\n",
       "    <tr>\n",
       "      <th>1</th>\n",
       "      <td>5.0</td>\n",
       "      <td>9835.0</td>\n",
       "      <td>5.096902</td>\n",
       "    </tr>\n",
       "    <tr>\n",
       "      <th>2</th>\n",
       "      <td>5.0</td>\n",
       "      <td>1362.0</td>\n",
       "      <td>5.094255</td>\n",
       "    </tr>\n",
       "    <tr>\n",
       "      <th>3</th>\n",
       "      <td>5.0</td>\n",
       "      <td>12472.0</td>\n",
       "      <td>4.858741</td>\n",
       "    </tr>\n",
       "    <tr>\n",
       "      <th>4</th>\n",
       "      <td>5.0</td>\n",
       "      <td>14382.0</td>\n",
       "      <td>4.765639</td>\n",
       "    </tr>\n",
       "  </tbody>\n",
       "</table>\n",
       "</div>"
      ],
      "text/plain": [
       "   userId  movieId  movieRating\n",
       "0     5.0  14418.0     5.157757\n",
       "1     5.0   9835.0     5.096902\n",
       "2     5.0   1362.0     5.094255\n",
       "3     5.0  12472.0     4.858741\n",
       "4     5.0  14382.0     4.765639"
      ]
     },
     "execution_count": 184,
     "metadata": {},
     "output_type": "execute_result"
    }
   ],
   "source": [
    "movie_df = pd.DataFrame(columns=[\"userId\", 'movieId', 'movieRating'])\n",
    "\n",
    "movie_id = movie_recommendation[0][0]\n",
    "movie_rating = movie_recommendation[0][1]\n",
    "\n",
    "for id_, rating in zip(movie_id, movie_rating):\n",
    "    movie_df.loc[len(movie_df)] = [5, id_, rating]\n",
    "\n",
    "movie_df"
   ]
  },
  {
   "cell_type": "code",
   "execution_count": null,
   "metadata": {},
   "outputs": [],
   "source": [
    "item_recs = model.recommendForAllItems(numUsers=5)\n",
    "user_recommendation = item_recs.where(item_recs.movie_id == 100).select(\"recommendations.user_id\", \"recommendations.rating\").collect()"
   ]
  },
  {
   "cell_type": "code",
   "execution_count": 188,
   "metadata": {},
   "outputs": [
    {
     "data": {
      "text/html": [
       "<div>\n",
       "<style scoped>\n",
       "    .dataframe tbody tr th:only-of-type {\n",
       "        vertical-align: middle;\n",
       "    }\n",
       "\n",
       "    .dataframe tbody tr th {\n",
       "        vertical-align: top;\n",
       "    }\n",
       "\n",
       "    .dataframe thead th {\n",
       "        text-align: right;\n",
       "    }\n",
       "</style>\n",
       "<table border=\"1\" class=\"dataframe\">\n",
       "  <thead>\n",
       "    <tr style=\"text-align: right;\">\n",
       "      <th></th>\n",
       "      <th>movieId</th>\n",
       "      <th>userId</th>\n",
       "      <th>movieRating</th>\n",
       "    </tr>\n",
       "  </thead>\n",
       "  <tbody>\n",
       "    <tr>\n",
       "      <th>0</th>\n",
       "      <td>100.0</td>\n",
       "      <td>23856.0</td>\n",
       "      <td>6.120047</td>\n",
       "    </tr>\n",
       "    <tr>\n",
       "      <th>1</th>\n",
       "      <td>100.0</td>\n",
       "      <td>27834.0</td>\n",
       "      <td>6.074754</td>\n",
       "    </tr>\n",
       "    <tr>\n",
       "      <th>2</th>\n",
       "      <td>100.0</td>\n",
       "      <td>6238.0</td>\n",
       "      <td>5.904249</td>\n",
       "    </tr>\n",
       "    <tr>\n",
       "      <th>3</th>\n",
       "      <td>100.0</td>\n",
       "      <td>28312.0</td>\n",
       "      <td>5.868137</td>\n",
       "    </tr>\n",
       "    <tr>\n",
       "      <th>4</th>\n",
       "      <td>100.0</td>\n",
       "      <td>13173.0</td>\n",
       "      <td>5.789801</td>\n",
       "    </tr>\n",
       "  </tbody>\n",
       "</table>\n",
       "</div>"
      ],
      "text/plain": [
       "   movieId   userId  movieRating\n",
       "0    100.0  23856.0     6.120047\n",
       "1    100.0  27834.0     6.074754\n",
       "2    100.0   6238.0     5.904249\n",
       "3    100.0  28312.0     5.868137\n",
       "4    100.0  13173.0     5.789801"
      ]
     },
     "execution_count": 188,
     "metadata": {},
     "output_type": "execute_result"
    }
   ],
   "source": [
    "user_df = pd.DataFrame(columns=['movieId', 'userId', 'movieRating'])\n",
    "\n",
    "user_id = user_recommendation[0][0]\n",
    "movie_rating = user_recommendation[0][1]\n",
    "\n",
    "for id_, rating in zip(user_id, movie_rating):\n",
    "    user_df.loc[len(user_df)] = [100, id_, rating]\n",
    "\n",
    "user_df"
   ]
  },
  {
   "cell_type": "code",
   "execution_count": null,
   "metadata": {},
   "outputs": [],
   "source": []
  }
 ],
 "metadata": {
  "kernelspec": {
   "display_name": "base",
   "language": "python",
   "name": "python3"
  },
  "language_info": {
   "codemirror_mode": {
    "name": "ipython",
    "version": 3
   },
   "file_extension": ".py",
   "mimetype": "text/x-python",
   "name": "python",
   "nbconvert_exporter": "python",
   "pygments_lexer": "ipython3",
   "version": "3.10.9"
  }
 },
 "nbformat": 4,
 "nbformat_minor": 2
}
