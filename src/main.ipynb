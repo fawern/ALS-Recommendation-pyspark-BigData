{
 "cells": [
  {
   "cell_type": "code",
   "execution_count": 1,
   "metadata": {},
   "outputs": [],
   "source": [
    "import warnings\n",
    "warnings.filterwarnings(\"ignore\")"
   ]
  },
  {
   "cell_type": "code",
   "execution_count": 2,
   "metadata": {},
   "outputs": [],
   "source": [
    "import findspark\n",
    "findspark.init(\"C:\\spark\\spark-3.5.0-bin-hadoop3\")"
   ]
  },
  {
   "cell_type": "code",
   "execution_count": 3,
   "metadata": {},
   "outputs": [],
   "source": [
    "import numpy as np \n",
    "import pandas as pd\n",
    "from datasets import load_dataset\n",
    "from itertools import islice\n",
    "\n",
    "import matplotlib.pyplot as plt"
   ]
  },
  {
   "cell_type": "code",
   "execution_count": 4,
   "metadata": {},
   "outputs": [],
   "source": [
    "from pyspark import SparkConf\n",
    "from pyspark import SparkContext\n",
    "from pyspark.sql import SparkSession\n",
    "\n",
    "from pyspark.ml.feature import StringIndexer\n",
    "from pyspark.ml import Pipeline\n",
    "\n",
    "from pyspark.ml.recommendation import ALS\n",
    "\n",
    "from pyspark.ml.evaluation import RegressionEvaluator\n",
    "\n",
    "from pyspark.sql.functions import col\n",
    "from itertools import product\n",
    "\n",
    "from cosine_similarity import ItemSimilarity\n",
    "from cosine_similarity import UserSimilarity"
   ]
  },
  {
   "cell_type": "code",
   "execution_count": 5,
   "metadata": {},
   "outputs": [],
   "source": [
    "try:\n",
    "    sc = SparkContext.getOrCreate()\n",
    "\n",
    "    if sc:\n",
    "        sc.stop()\n",
    "except Exception as e:\n",
    "    print(e)\n",
    "\n",
    "spark = SparkSession.builder\\\n",
    "    .master('local')\\\n",
    "        .appName('ALS_Recommendation')\\\n",
    "            .getOrCreate()\n",
    "\n",
    "sc = spark.sparkContext "
   ]
  },
  {
   "cell_type": "code",
   "execution_count": 6,
   "metadata": {},
   "outputs": [
    {
     "name": "stdout",
     "output_type": "stream",
     "text": [
      "App Name : ALS_Recommendation\n",
      "Version : 3.5.0\n",
      "Spark User : 90530\n"
     ]
    }
   ],
   "source": [
    "print(f'App Name : {sc.appName}')\n",
    "print(f'Version : {sc.version}')\n",
    "print(f\"Spark User : {sc.sparkUser()}\")"
   ]
  },
  {
   "cell_type": "code",
   "execution_count": 7,
   "metadata": {},
   "outputs": [
    {
     "data": {
      "text/html": [
       "\n",
       "        <div>\n",
       "            <p><b>SparkContext</b></p>\n",
       "\n",
       "            <p><a href=\"http://10.1.9.167:4040\">Spark UI</a></p>\n",
       "\n",
       "            <dl>\n",
       "              <dt>Version</dt>\n",
       "                <dd><code>v3.5.0</code></dd>\n",
       "              <dt>Master</dt>\n",
       "                <dd><code>local</code></dd>\n",
       "              <dt>AppName</dt>\n",
       "                <dd><code>ALS_Recommendation</code></dd>\n",
       "            </dl>\n",
       "        </div>\n",
       "        "
      ],
      "text/plain": [
       "<SparkContext master=local appName=ALS_Recommendation>"
      ]
     },
     "execution_count": 7,
     "metadata": {},
     "output_type": "execute_result"
    }
   ],
   "source": [
    "sc"
   ]
  },
  {
   "cell_type": "code",
   "execution_count": 8,
   "metadata": {},
   "outputs": [
    {
     "name": "stderr",
     "output_type": "stream",
     "text": [
      "Found cached dataset parquet (C:/Users/90530/.cache/huggingface/datasets/ashraq___parquet/ashraq--movielens_ratings-139b1d983e5c8861/0.0.0/2a3b91fbd88a2c90d1dbbb32b460cf621d31bd5b05b934492fdef7d8d6f236ec)\n"
     ]
    },
    {
     "data": {
      "application/vnd.jupyter.widget-view+json": {
       "model_id": "af7a924d687a4fe3a3fe6d643ea9fa9d",
       "version_major": 2,
       "version_minor": 0
      },
      "text/plain": [
       "  0%|          | 0/2 [00:00<?, ?it/s]"
      ]
     },
     "metadata": {},
     "output_type": "display_data"
    }
   ],
   "source": [
    "dataset = load_dataset(\"ashraq/movielens_ratings\")  \n",
    "\n",
    "df = dataset['train'].to_pandas()"
   ]
  },
  {
   "cell_type": "code",
   "execution_count": 9,
   "metadata": {},
   "outputs": [
    {
     "data": {
      "text/html": [
       "<div>\n",
       "<style scoped>\n",
       "    .dataframe tbody tr th:only-of-type {\n",
       "        vertical-align: middle;\n",
       "    }\n",
       "\n",
       "    .dataframe tbody tr th {\n",
       "        vertical-align: top;\n",
       "    }\n",
       "\n",
       "    .dataframe thead th {\n",
       "        text-align: right;\n",
       "    }\n",
       "</style>\n",
       "<table border=\"1\" class=\"dataframe\">\n",
       "  <thead>\n",
       "    <tr style=\"text-align: right;\">\n",
       "      <th></th>\n",
       "      <th>imdbId</th>\n",
       "      <th>tmdbId</th>\n",
       "      <th>movie_id</th>\n",
       "      <th>user_id</th>\n",
       "      <th>rating</th>\n",
       "      <th>title</th>\n",
       "      <th>genres</th>\n",
       "      <th>posters</th>\n",
       "    </tr>\n",
       "  </thead>\n",
       "  <tbody>\n",
       "    <tr>\n",
       "      <th>0</th>\n",
       "      <td>tt2096673</td>\n",
       "      <td>150540</td>\n",
       "      <td>2307</td>\n",
       "      <td>11923</td>\n",
       "      <td>3.5</td>\n",
       "      <td>Inside Out (2015)</td>\n",
       "      <td>Adventure|Animation|Children|Comedy|Drama|Fantasy</td>\n",
       "      <td>https://m.media-amazon.com/images/M/MV5BOTgxMD...</td>\n",
       "    </tr>\n",
       "    <tr>\n",
       "      <th>1</th>\n",
       "      <td>tt5160928</td>\n",
       "      <td>393732</td>\n",
       "      <td>7157</td>\n",
       "      <td>32503</td>\n",
       "      <td>3.0</td>\n",
       "      <td>Mean Dreams (2017)</td>\n",
       "      <td>Thriller</td>\n",
       "      <td>https://m.media-amazon.com/images/M/MV5BMDM2OD...</td>\n",
       "    </tr>\n",
       "    <tr>\n",
       "      <th>2</th>\n",
       "      <td>tt3498820</td>\n",
       "      <td>271110</td>\n",
       "      <td>1398</td>\n",
       "      <td>20241</td>\n",
       "      <td>3.0</td>\n",
       "      <td>Captain America: Civil War (2016)</td>\n",
       "      <td>Action|Sci-Fi|Thriller</td>\n",
       "      <td>https://m.media-amazon.com/images/M/MV5BMjQ0MT...</td>\n",
       "    </tr>\n",
       "    <tr>\n",
       "      <th>3</th>\n",
       "      <td>tt3040964</td>\n",
       "      <td>278927</td>\n",
       "      <td>2625</td>\n",
       "      <td>42975</td>\n",
       "      <td>5.0</td>\n",
       "      <td>The Jungle Book (2016)</td>\n",
       "      <td>Adventure|Drama|Fantasy</td>\n",
       "      <td>https://m.media-amazon.com/images/M/MV5BMTc3NT...</td>\n",
       "    </tr>\n",
       "    <tr>\n",
       "      <th>4</th>\n",
       "      <td>tt5308322</td>\n",
       "      <td>440021</td>\n",
       "      <td>8457</td>\n",
       "      <td>31336</td>\n",
       "      <td>3.0</td>\n",
       "      <td>Happy Death Day (2017)</td>\n",
       "      <td>Horror|Mystery|Thriller</td>\n",
       "      <td>https://m.media-amazon.com/images/M/MV5BYzZhY2...</td>\n",
       "    </tr>\n",
       "  </tbody>\n",
       "</table>\n",
       "</div>"
      ],
      "text/plain": [
       "      imdbId  tmdbId  movie_id  user_id  rating  \\\n",
       "0  tt2096673  150540      2307    11923     3.5   \n",
       "1  tt5160928  393732      7157    32503     3.0   \n",
       "2  tt3498820  271110      1398    20241     3.0   \n",
       "3  tt3040964  278927      2625    42975     5.0   \n",
       "4  tt5308322  440021      8457    31336     3.0   \n",
       "\n",
       "                               title  \\\n",
       "0                  Inside Out (2015)   \n",
       "1                 Mean Dreams (2017)   \n",
       "2  Captain America: Civil War (2016)   \n",
       "3             The Jungle Book (2016)   \n",
       "4             Happy Death Day (2017)   \n",
       "\n",
       "                                              genres  \\\n",
       "0  Adventure|Animation|Children|Comedy|Drama|Fantasy   \n",
       "1                                           Thriller   \n",
       "2                             Action|Sci-Fi|Thriller   \n",
       "3                            Adventure|Drama|Fantasy   \n",
       "4                            Horror|Mystery|Thriller   \n",
       "\n",
       "                                             posters  \n",
       "0  https://m.media-amazon.com/images/M/MV5BOTgxMD...  \n",
       "1  https://m.media-amazon.com/images/M/MV5BMDM2OD...  \n",
       "2  https://m.media-amazon.com/images/M/MV5BMjQ0MT...  \n",
       "3  https://m.media-amazon.com/images/M/MV5BMTc3NT...  \n",
       "4  https://m.media-amazon.com/images/M/MV5BYzZhY2...  "
      ]
     },
     "execution_count": 9,
     "metadata": {},
     "output_type": "execute_result"
    }
   ],
   "source": [
    "df.head(5)"
   ]
  },
  {
   "cell_type": "code",
   "execution_count": 10,
   "metadata": {},
   "outputs": [],
   "source": [
    "df_train = dataset['train'].to_pandas()[['movie_id', 'user_id', 'rating', 'genres', 'title']]\n",
    "df_val = dataset['validation'].to_pandas()[['movie_id', 'user_id', 'rating', 'genres', 'title']]"
   ]
  },
  {
   "cell_type": "code",
   "execution_count": 11,
   "metadata": {},
   "outputs": [
    {
     "data": {
      "text/html": [
       "<div>\n",
       "<style scoped>\n",
       "    .dataframe tbody tr th:only-of-type {\n",
       "        vertical-align: middle;\n",
       "    }\n",
       "\n",
       "    .dataframe tbody tr th {\n",
       "        vertical-align: top;\n",
       "    }\n",
       "\n",
       "    .dataframe thead th {\n",
       "        text-align: right;\n",
       "    }\n",
       "</style>\n",
       "<table border=\"1\" class=\"dataframe\">\n",
       "  <thead>\n",
       "    <tr style=\"text-align: right;\">\n",
       "      <th></th>\n",
       "      <th>movie_id</th>\n",
       "      <th>user_id</th>\n",
       "      <th>rating</th>\n",
       "      <th>genres</th>\n",
       "      <th>title</th>\n",
       "    </tr>\n",
       "  </thead>\n",
       "  <tbody>\n",
       "    <tr>\n",
       "      <th>0</th>\n",
       "      <td>2307</td>\n",
       "      <td>11923</td>\n",
       "      <td>3.5</td>\n",
       "      <td>Adventure|Animation|Children|Comedy|Drama|Fantasy</td>\n",
       "      <td>Inside Out (2015)</td>\n",
       "    </tr>\n",
       "    <tr>\n",
       "      <th>1</th>\n",
       "      <td>7157</td>\n",
       "      <td>32503</td>\n",
       "      <td>3.0</td>\n",
       "      <td>Thriller</td>\n",
       "      <td>Mean Dreams (2017)</td>\n",
       "    </tr>\n",
       "    <tr>\n",
       "      <th>2</th>\n",
       "      <td>1398</td>\n",
       "      <td>20241</td>\n",
       "      <td>3.0</td>\n",
       "      <td>Action|Sci-Fi|Thriller</td>\n",
       "      <td>Captain America: Civil War (2016)</td>\n",
       "    </tr>\n",
       "    <tr>\n",
       "      <th>3</th>\n",
       "      <td>2625</td>\n",
       "      <td>42975</td>\n",
       "      <td>5.0</td>\n",
       "      <td>Adventure|Drama|Fantasy</td>\n",
       "      <td>The Jungle Book (2016)</td>\n",
       "    </tr>\n",
       "    <tr>\n",
       "      <th>4</th>\n",
       "      <td>8457</td>\n",
       "      <td>31336</td>\n",
       "      <td>3.0</td>\n",
       "      <td>Horror|Mystery|Thriller</td>\n",
       "      <td>Happy Death Day (2017)</td>\n",
       "    </tr>\n",
       "  </tbody>\n",
       "</table>\n",
       "</div>"
      ],
      "text/plain": [
       "   movie_id  user_id  rating  \\\n",
       "0      2307    11923     3.5   \n",
       "1      7157    32503     3.0   \n",
       "2      1398    20241     3.0   \n",
       "3      2625    42975     5.0   \n",
       "4      8457    31336     3.0   \n",
       "\n",
       "                                              genres  \\\n",
       "0  Adventure|Animation|Children|Comedy|Drama|Fantasy   \n",
       "1                                           Thriller   \n",
       "2                             Action|Sci-Fi|Thriller   \n",
       "3                            Adventure|Drama|Fantasy   \n",
       "4                            Horror|Mystery|Thriller   \n",
       "\n",
       "                               title  \n",
       "0                  Inside Out (2015)  \n",
       "1                 Mean Dreams (2017)  \n",
       "2  Captain America: Civil War (2016)  \n",
       "3             The Jungle Book (2016)  \n",
       "4             Happy Death Day (2017)  "
      ]
     },
     "execution_count": 11,
     "metadata": {},
     "output_type": "execute_result"
    }
   ],
   "source": [
    "df_train.head(5)"
   ]
  },
  {
   "cell_type": "code",
   "execution_count": 12,
   "metadata": {},
   "outputs": [],
   "source": [
    "df_train.to_csv(\"../Datas/df_train.csv\", index=False)\n",
    "df_val.to_csv('../Datas/df_val.csv', index=False)"
   ]
  },
  {
   "cell_type": "code",
   "execution_count": 13,
   "metadata": {},
   "outputs": [],
   "source": [
    "df_rating_train = spark.read.csv(\"../Datas/df_train.csv\", header=True, inferSchema=True).select('movie_id', 'user_id', 'rating')\n",
    "df_rating_val = spark.read.csv(\"../Datas/df_val.csv\", header=True, inferSchema=True).select('movie_id', 'user_id', 'rating')\n",
    "\n",
    "genres_train = spark.read.csv(\"../Datas/df_train.csv\", header=True, inferSchema=True).select('genres') \n",
    "genres_val = spark.read.csv(\"../Datas/df_val.csv\", header=True, inferSchema=True).select('genres')\n",
    "\n",
    "title_train = spark.read.csv(\"../Datas/df_train.csv\", header=True, inferSchema=True).select(['movie_id', 'title']) \n",
    "title_val = spark.read.csv(\"../Datas/df_val.csv\", header=True, inferSchema=True).select(['movie_id', 'title'])\n",
    "\n",
    "# concat_data = df_rating_train.union(df_rating_val).limit(10000)\n",
    "\n",
    "movie_title = title_train.union(title_val)\n",
    "concat_genres = genres_train.union(genres_val)\n",
    "concat_data = df_rating_train.union(df_rating_val)"
   ]
  },
  {
   "cell_type": "code",
   "execution_count": 14,
   "metadata": {},
   "outputs": [
    {
     "name": "stdout",
     "output_type": "stream",
     "text": [
      "+-------+------------------+------------------+------------------+\n",
      "|summary|          movie_id|           user_id|            rating|\n",
      "+-------+------------------+------------------+------------------+\n",
      "|  count|            990425|            990425|            990425|\n",
      "|   mean| 4057.249363657016|21788.655097559127|3.5557376883661056|\n",
      "| stddev|3782.8968929842586|12658.790818878151|1.0521822688147535|\n",
      "|    min|                 1|                 1|               0.5|\n",
      "|    max|             15604|             44088|               5.0|\n",
      "+-------+------------------+------------------+------------------+\n",
      "\n"
     ]
    }
   ],
   "source": [
    "concat_data.describe().show()"
   ]
  },
  {
   "cell_type": "code",
   "execution_count": 15,
   "metadata": {},
   "outputs": [
    {
     "name": "stdout",
     "output_type": "stream",
     "text": [
      "Number of rows : 990425\n",
      "Number of movie : 15603\n"
     ]
    }
   ],
   "source": [
    "num_rows = concat_data.count()\n",
    "num_uniq_movies = len(concat_data.select(\"movie_id\").distinct().collect())\n",
    "\n",
    "print(f\"Number of rows : {num_rows}\")\n",
    "print(f\"Number of movie : {num_uniq_movies}\")"
   ]
  },
  {
   "cell_type": "code",
   "execution_count": 16,
   "metadata": {},
   "outputs": [
    {
     "name": "stdout",
     "output_type": "stream",
     "text": [
      "root\n",
      " |-- movie_id: integer (nullable = true)\n",
      " |-- user_id: integer (nullable = true)\n",
      " |-- rating: double (nullable = true)\n",
      "\n"
     ]
    }
   ],
   "source": [
    "concat_data.printSchema()"
   ]
  },
  {
   "cell_type": "code",
   "execution_count": 17,
   "metadata": {},
   "outputs": [
    {
     "name": "stdout",
     "output_type": "stream",
     "text": [
      "+--------+-------+------+\n",
      "|movie_id|user_id|rating|\n",
      "+--------+-------+------+\n",
      "|    2307|  11923|   3.5|\n",
      "|    7157|  32503|   3.0|\n",
      "|    1398|  20241|   3.0|\n",
      "|    2625|  42975|   5.0|\n",
      "|    8457|  31336|   3.0|\n",
      "|    2230|  38922|   4.0|\n",
      "|    5110|  41802|   3.5|\n",
      "|     935|  36706|   3.5|\n",
      "|     936|  21320|   5.0|\n",
      "|    8960|   2930|   2.5|\n",
      "+--------+-------+------+\n",
      "only showing top 10 rows\n",
      "\n"
     ]
    }
   ],
   "source": [
    "concat_data.show(10)"
   ]
  },
  {
   "cell_type": "code",
   "execution_count": 18,
   "metadata": {},
   "outputs": [
    {
     "data": {
      "text/plain": [
       "['Adventure|Animation|Children|Comedy|Drama|Fantasy',\n",
       " 'Thriller',\n",
       " 'Action|Sci-Fi|Thriller',\n",
       " 'Adventure|Drama|Fantasy',\n",
       " 'Horror|Mystery|Thriller',\n",
       " 'Adventure|Drama|Sci-Fi',\n",
       " 'Drama',\n",
       " 'Crime|Drama|Thriller',\n",
       " 'Action|Animation|Comedy',\n",
       " 'Action|Adventure|Children']"
      ]
     },
     "execution_count": 18,
     "metadata": {},
     "output_type": "execute_result"
    }
   ],
   "source": [
    "[genres.genres for genres in concat_genres.take(10)]"
   ]
  },
  {
   "cell_type": "code",
   "execution_count": 19,
   "metadata": {},
   "outputs": [
    {
     "name": "stdout",
     "output_type": "stream",
     "text": [
      "movie_id has no null value\n",
      "user_id has no null value\n",
      "rating has no null value\n"
     ]
    }
   ],
   "source": [
    "for column in concat_data.columns:\n",
    "    null_row = concat_data.where(col(column).isNull()).count()\n",
    "    if null_row == 0:\n",
    "        print(f\"{column} has no null value\")\n",
    "    else:\n",
    "        print(f'{column} has {null_row} null values')"
   ]
  },
  {
   "cell_type": "code",
   "execution_count": 20,
   "metadata": {},
   "outputs": [],
   "source": [
    "genres_list = []\n",
    "\n",
    "for genres in concat_genres.collect():\n",
    "    genres_list.append(genres[0])\n",
    "\n",
    "genres_text = \"\"\n",
    "\n",
    "for g in genres_list:\n",
    "    genres_text += g + \"|\""
   ]
  },
  {
   "cell_type": "code",
   "execution_count": 21,
   "metadata": {},
   "outputs": [],
   "source": [
    "rdd = sc.parallelize([genres_text])"
   ]
  },
  {
   "cell_type": "code",
   "execution_count": 22,
   "metadata": {},
   "outputs": [],
   "source": [
    "all_genres = rdd.flatMap(lambda genres: genres.split('|')) \\\n",
    "    .map(lambda genres : (genres, 1)) \\\n",
    "    .reduceByKey(lambda x, y, : x + y)\n",
    "\n",
    "sortedGenresCounts = sorted(all_genres.collect(), key=lambda x : x[1], reverse=True)\n",
    "sortedGenresCounts = spark.sparkContext.parallelize(sortedGenresCounts)"
   ]
  },
  {
   "cell_type": "code",
   "execution_count": 23,
   "metadata": {},
   "outputs": [
    {
     "name": "stdout",
     "output_type": "stream",
     "text": [
      "Drama: 405151\n",
      "Action: 294340\n",
      "Comedy: 275970\n",
      "Adventure: 233625\n",
      "Thriller: 223726\n",
      "Sci-Fi: 208094\n",
      "Fantasy: 113806\n",
      "Crime: 111199\n",
      "Animation: 106115\n",
      "Romance: 87352\n",
      "Horror: 80338\n",
      "Children: 63295\n",
      "Mystery: 48418\n",
      "Documentary: 41649\n",
      "War: 39009\n"
     ]
    }
   ],
   "source": [
    "for genres, count in islice(sortedGenresCounts.collect(), 15):\n",
    "    print(f\"{genres}: {count}\")"
   ]
  },
  {
   "cell_type": "code",
   "execution_count": 24,
   "metadata": {},
   "outputs": [
    {
     "data": {
      "text/plain": [
       "<Axes: >"
      ]
     },
     "execution_count": 24,
     "metadata": {},
     "output_type": "execute_result"
    },
    {
     "data": {
      "image/png": "[encoded data removed]",
      "text/plain": [
       "<Figure size 700x700 with 1 Axes>"
      ]
     },
     "metadata": {},
     "output_type": "display_data"
    }
   ],
   "source": [
    "plt.figure(figsize=(7, 7))\n",
    "rating_list = [rating[0] for rating in concat_data.select(\"rating\").collect()]\n",
    "pd.DataFrame(rating_list).value_counts().plot(\n",
    "    kind='pie',\n",
    "    shadow=True,\n",
    "    startangle=10,\n",
    "    autopct='%1.1f%%',\n",
    "    )"
   ]
  },
  {
   "cell_type": "code",
   "execution_count": 25,
   "metadata": {},
   "outputs": [
    {
     "data": {
      "text/plain": [
       "Text(0, 0.5, 'Frequency')"
      ]
     },
     "execution_count": 25,
     "metadata": {},
     "output_type": "execute_result"
    },
    {
     "data": {
      "image/png": "[encoded data removed]",
      "text/plain": [
       "<Figure size 640x480 with 1 Axes>"
      ]
     },
     "metadata": {},
     "output_type": "display_data"
    }
   ],
   "source": [
    "bin_edges = np.arange(0.5, 5.5, step=0.5)\n",
    "\n",
    "plt.hist(\n",
    "    rating_list, bins=bin_edges, histtype='bar'\n",
    ")\n",
    "\n",
    "plt.title(\"Rating Histogram\")\n",
    "plt.xlabel('Rating')    \n",
    "plt.ylabel('Frequency')"
   ]
  },
  {
   "cell_type": "code",
   "execution_count": 18,
   "metadata": {},
   "outputs": [],
   "source": [
    "indexer_movie = StringIndexer(inputCol='movie_id', outputCol='movie_index')\n",
    "indexer_user = StringIndexer(inputCol='user_id', outputCol='user_index')"
   ]
  },
  {
   "cell_type": "code",
   "execution_count": 19,
   "metadata": {},
   "outputs": [
    {
     "name": "stdout",
     "output_type": "stream",
     "text": [
      "+--------+-------+------+-----------+----------+\n",
      "|movie_id|user_id|rating|movie_index|user_index|\n",
      "+--------+-------+------+-----------+----------+\n",
      "|    2307|  11923|   3.5|        3.0|    3546.0|\n",
      "|    7157|  32503|   3.0|     3137.0|     587.0|\n",
      "|    1398|  20241|   3.0|       20.0|    9092.0|\n",
      "|    2625|  42975|   5.0|       78.0|    6216.0|\n",
      "|    8457|  31336|   3.0|      303.0|     716.0|\n",
      "|    2230|  38922|   4.0|        0.0|    2575.0|\n",
      "|    5110|  41802|   3.5|       96.0|     362.0|\n",
      "|     935|  36706|   3.5|       13.0|    1282.0|\n",
      "|     936|  21320|   5.0|        8.0|   30282.0|\n",
      "|    8960|   2930|   2.5|      105.0|     562.0|\n",
      "+--------+-------+------+-----------+----------+\n",
      "only showing top 10 rows\n",
      "\n"
     ]
    }
   ],
   "source": [
    "pipeline = Pipeline(stages=[indexer_movie, indexer_user])\n",
    "\n",
    "tf_df = pipeline.fit(concat_data).transform(concat_data)\n",
    "\n",
    "tf_df.show(10)"
   ]
  },
  {
   "cell_type": "code",
   "execution_count": 20,
   "metadata": {},
   "outputs": [
    {
     "name": "stdout",
     "output_type": "stream",
     "text": [
      "train count : 891276\n",
      "test count : 99149\n"
     ]
    }
   ],
   "source": [
    "(train_data, test_data) = tf_df.randomSplit([0.9, 0.1], seed=5030)\n",
    "\n",
    "print(f\"train count : {train_data.count()}\")\n",
    "print(f\"test count : {test_data.count()}\")"
   ]
  },
  {
   "cell_type": "code",
   "execution_count": 29,
   "metadata": {},
   "outputs": [],
   "source": [
    "models = []\n",
    "df = pd.DataFrame(columns=['rank_', 'iteration', 'regParam_', 'model', 'predictions', 'rmse', 'mse'])\n",
    "\n",
    "def als_model(rank_, iteration, regParam_):\n",
    "        als = ALS(\n",
    "                rank = rank_,\n",
    "                maxIter = iteration,\n",
    "                regParam = regParam_, \n",
    "                numUserBlocks = 10, # Default\n",
    "                numItemBlocks = 10, # Default\n",
    "                implicitPrefs = False, # Default\n",
    "                alpha = 1.0, # Default\n",
    "                userCol = 'user_id', # Default\n",
    "                itemCol = 'movie_id', # Default\n",
    "                seed = None, # Default\n",
    "                ratingCol = 'rating', # Default\n",
    "                nonnegative = False, # Default\n",
    "                checkpointInterval = 10, # Default\n",
    "                intermediateStorageLevel = 'MEMORY_AND_DISK', # Default\n",
    "                finalStorageLevel = 'MEMORY_AND_DISK', # Default\n",
    "                coldStartStrategy = 'nan', # Default\n",
    "                blockSize = 4096, # Default\n",
    "        )\n",
    "\n",
    "        model = als.fit(train_data)\n",
    "        model.setPredictionCol(\"predictions\")\n",
    "        predictions = model.transform(test_data)\n",
    "        predictions = predictions.filter(predictions.predictions != float('nan'))\n",
    "\n",
    "        evaluator=RegressionEvaluator(metricName=\"rmse\",labelCol=\"rating\",predictionCol=\"predictions\")\n",
    "        rmse=evaluator.evaluate(predictions)\n",
    "\n",
    "        evaluator2=RegressionEvaluator(metricName=\"mse\",labelCol=\"rating\",predictionCol=\"predictions\")\n",
    "        mse=evaluator2.evaluate(predictions)\n",
    "\n",
    "        models.append(model)\n",
    "        df.loc[len(df)] = [rank_, iteration, regParam_, model, predictions, rmse, mse] "
   ]
  },
  {
   "cell_type": "code",
   "execution_count": 30,
   "metadata": {},
   "outputs": [
    {
     "name": "stdout",
     "output_type": "stream",
     "text": [
      "model 1 is done \n",
      "model 2 is done \n",
      "model 3 is done \n",
      "model 4 is done \n",
      "model 5 is done \n",
      "model 6 is done \n",
      "model 7 is done \n",
      "model 8 is done \n",
      "model 9 is done \n",
      "model 10 is done \n",
      "model 11 is done \n",
      "model 12 is done \n",
      "model 13 is done \n",
      "model 14 is done \n",
      "model 15 is done \n",
      "model 16 is done \n",
      "model 17 is done \n",
      "model 18 is done \n"
     ]
    }
   ],
   "source": [
    "rank_params = [10, 50, 100]\n",
    "iteration_params = [10, 15, 20]\n",
    "lambda_params = [0.1, 0.01]\n",
    "\n",
    "for r, i, l in product(rank_params, iteration_params, lambda_params):\n",
    "    als_model(r, i, l)\n",
    "    print(f\"model {len(df)} is done \")"
   ]
  },
  {
   "cell_type": "code",
   "execution_count": 31,
   "metadata": {},
   "outputs": [
    {
     "data": {
      "text/html": [
       "<div>\n",
       "<style scoped>\n",
       "    .dataframe tbody tr th:only-of-type {\n",
       "        vertical-align: middle;\n",
       "    }\n",
       "\n",
       "    .dataframe tbody tr th {\n",
       "        vertical-align: top;\n",
       "    }\n",
       "\n",
       "    .dataframe thead th {\n",
       "        text-align: right;\n",
       "    }\n",
       "</style>\n",
       "<table border=\"1\" class=\"dataframe\">\n",
       "  <thead>\n",
       "    <tr style=\"text-align: right;\">\n",
       "      <th></th>\n",
       "      <th>rank_</th>\n",
       "      <th>iteration</th>\n",
       "      <th>regParam_</th>\n",
       "      <th>model</th>\n",
       "      <th>predictions</th>\n",
       "      <th>rmse</th>\n",
       "    </tr>\n",
       "    <tr>\n",
       "      <th>mse</th>\n",
       "      <th></th>\n",
       "      <th></th>\n",
       "      <th></th>\n",
       "      <th></th>\n",
       "      <th></th>\n",
       "      <th></th>\n",
       "    </tr>\n",
       "  </thead>\n",
       "  <tbody>\n",
       "    <tr>\n",
       "      <th>0.688977</th>\n",
       "      <td>50</td>\n",
       "      <td>20</td>\n",
       "      <td>0.1</td>\n",
       "      <td>ALSModel: uid=ALS_8faa114910c9, rank=50</td>\n",
       "      <td>DataFrame[movie_id: int, user_id: int, rating:...</td>\n",
       "      <td>0.830046</td>\n",
       "    </tr>\n",
       "    <tr>\n",
       "      <th>0.689436</th>\n",
       "      <td>100</td>\n",
       "      <td>20</td>\n",
       "      <td>0.1</td>\n",
       "      <td>ALSModel: uid=ALS_0bd1c122e4cd, rank=100</td>\n",
       "      <td>DataFrame[movie_id: int, user_id: int, rating:...</td>\n",
       "      <td>0.830323</td>\n",
       "    </tr>\n",
       "    <tr>\n",
       "      <th>0.690706</th>\n",
       "      <td>10</td>\n",
       "      <td>20</td>\n",
       "      <td>0.1</td>\n",
       "      <td>ALSModel: uid=ALS_3c4bb5ca5cc5, rank=10</td>\n",
       "      <td>DataFrame[movie_id: int, user_id: int, rating:...</td>\n",
       "      <td>0.831087</td>\n",
       "    </tr>\n",
       "    <tr>\n",
       "      <th>0.695370</th>\n",
       "      <td>10</td>\n",
       "      <td>15</td>\n",
       "      <td>0.1</td>\n",
       "      <td>ALSModel: uid=ALS_3e16878f3023, rank=10</td>\n",
       "      <td>DataFrame[movie_id: int, user_id: int, rating:...</td>\n",
       "      <td>0.833889</td>\n",
       "    </tr>\n",
       "    <tr>\n",
       "      <th>0.696436</th>\n",
       "      <td>50</td>\n",
       "      <td>15</td>\n",
       "      <td>0.1</td>\n",
       "      <td>ALSModel: uid=ALS_9ca26eee3a4f, rank=50</td>\n",
       "      <td>DataFrame[movie_id: int, user_id: int, rating:...</td>\n",
       "      <td>0.834527</td>\n",
       "    </tr>\n",
       "  </tbody>\n",
       "</table>\n",
       "</div>"
      ],
      "text/plain": [
       "          rank_  iteration  regParam_  \\\n",
       "mse                                     \n",
       "0.688977     50         20        0.1   \n",
       "0.689436    100         20        0.1   \n",
       "0.690706     10         20        0.1   \n",
       "0.695370     10         15        0.1   \n",
       "0.696436     50         15        0.1   \n",
       "\n",
       "                                             model  \\\n",
       "mse                                                  \n",
       "0.688977   ALSModel: uid=ALS_8faa114910c9, rank=50   \n",
       "0.689436  ALSModel: uid=ALS_0bd1c122e4cd, rank=100   \n",
       "0.690706   ALSModel: uid=ALS_3c4bb5ca5cc5, rank=10   \n",
       "0.695370   ALSModel: uid=ALS_3e16878f3023, rank=10   \n",
       "0.696436   ALSModel: uid=ALS_9ca26eee3a4f, rank=50   \n",
       "\n",
       "                                                predictions      rmse  \n",
       "mse                                                                    \n",
       "0.688977  DataFrame[movie_id: int, user_id: int, rating:...  0.830046  \n",
       "0.689436  DataFrame[movie_id: int, user_id: int, rating:...  0.830323  \n",
       "0.690706  DataFrame[movie_id: int, user_id: int, rating:...  0.831087  \n",
       "0.695370  DataFrame[movie_id: int, user_id: int, rating:...  0.833889  \n",
       "0.696436  DataFrame[movie_id: int, user_id: int, rating:...  0.834527  "
      ]
     },
     "execution_count": 31,
     "metadata": {},
     "output_type": "execute_result"
    }
   ],
   "source": [
    "df.groupby('mse').min().head()"
   ]
  },
  {
   "cell_type": "code",
   "execution_count": 32,
   "metadata": {},
   "outputs": [
    {
     "data": {
      "text/html": [
       "<div>\n",
       "<style scoped>\n",
       "    .dataframe tbody tr th:only-of-type {\n",
       "        vertical-align: middle;\n",
       "    }\n",
       "\n",
       "    .dataframe tbody tr th {\n",
       "        vertical-align: top;\n",
       "    }\n",
       "\n",
       "    .dataframe thead th {\n",
       "        text-align: right;\n",
       "    }\n",
       "</style>\n",
       "<table border=\"1\" class=\"dataframe\">\n",
       "  <thead>\n",
       "    <tr style=\"text-align: right;\">\n",
       "      <th></th>\n",
       "      <th>rank_</th>\n",
       "      <th>iteration</th>\n",
       "      <th>regParam_</th>\n",
       "      <th>model</th>\n",
       "      <th>predictions</th>\n",
       "      <th>mse</th>\n",
       "    </tr>\n",
       "    <tr>\n",
       "      <th>rmse</th>\n",
       "      <th></th>\n",
       "      <th></th>\n",
       "      <th></th>\n",
       "      <th></th>\n",
       "      <th></th>\n",
       "      <th></th>\n",
       "    </tr>\n",
       "  </thead>\n",
       "  <tbody>\n",
       "    <tr>\n",
       "      <th>0.830046</th>\n",
       "      <td>50</td>\n",
       "      <td>20</td>\n",
       "      <td>0.1</td>\n",
       "      <td>ALSModel: uid=ALS_8faa114910c9, rank=50</td>\n",
       "      <td>DataFrame[movie_id: int, user_id: int, rating:...</td>\n",
       "      <td>0.688977</td>\n",
       "    </tr>\n",
       "    <tr>\n",
       "      <th>0.830323</th>\n",
       "      <td>100</td>\n",
       "      <td>20</td>\n",
       "      <td>0.1</td>\n",
       "      <td>ALSModel: uid=ALS_0bd1c122e4cd, rank=100</td>\n",
       "      <td>DataFrame[movie_id: int, user_id: int, rating:...</td>\n",
       "      <td>0.689436</td>\n",
       "    </tr>\n",
       "    <tr>\n",
       "      <th>0.831087</th>\n",
       "      <td>10</td>\n",
       "      <td>20</td>\n",
       "      <td>0.1</td>\n",
       "      <td>ALSModel: uid=ALS_3c4bb5ca5cc5, rank=10</td>\n",
       "      <td>DataFrame[movie_id: int, user_id: int, rating:...</td>\n",
       "      <td>0.690706</td>\n",
       "    </tr>\n",
       "    <tr>\n",
       "      <th>0.833889</th>\n",
       "      <td>10</td>\n",
       "      <td>15</td>\n",
       "      <td>0.1</td>\n",
       "      <td>ALSModel: uid=ALS_3e16878f3023, rank=10</td>\n",
       "      <td>DataFrame[movie_id: int, user_id: int, rating:...</td>\n",
       "      <td>0.695370</td>\n",
       "    </tr>\n",
       "    <tr>\n",
       "      <th>0.834527</th>\n",
       "      <td>50</td>\n",
       "      <td>15</td>\n",
       "      <td>0.1</td>\n",
       "      <td>ALSModel: uid=ALS_9ca26eee3a4f, rank=50</td>\n",
       "      <td>DataFrame[movie_id: int, user_id: int, rating:...</td>\n",
       "      <td>0.696436</td>\n",
       "    </tr>\n",
       "  </tbody>\n",
       "</table>\n",
       "</div>"
      ],
      "text/plain": [
       "          rank_  iteration  regParam_  \\\n",
       "rmse                                    \n",
       "0.830046     50         20        0.1   \n",
       "0.830323    100         20        0.1   \n",
       "0.831087     10         20        0.1   \n",
       "0.833889     10         15        0.1   \n",
       "0.834527     50         15        0.1   \n",
       "\n",
       "                                             model  \\\n",
       "rmse                                                 \n",
       "0.830046   ALSModel: uid=ALS_8faa114910c9, rank=50   \n",
       "0.830323  ALSModel: uid=ALS_0bd1c122e4cd, rank=100   \n",
       "0.831087   ALSModel: uid=ALS_3c4bb5ca5cc5, rank=10   \n",
       "0.833889   ALSModel: uid=ALS_3e16878f3023, rank=10   \n",
       "0.834527   ALSModel: uid=ALS_9ca26eee3a4f, rank=50   \n",
       "\n",
       "                                                predictions       mse  \n",
       "rmse                                                                   \n",
       "0.830046  DataFrame[movie_id: int, user_id: int, rating:...  0.688977  \n",
       "0.830323  DataFrame[movie_id: int, user_id: int, rating:...  0.689436  \n",
       "0.831087  DataFrame[movie_id: int, user_id: int, rating:...  0.690706  \n",
       "0.833889  DataFrame[movie_id: int, user_id: int, rating:...  0.695370  \n",
       "0.834527  DataFrame[movie_id: int, user_id: int, rating:...  0.696436  "
      ]
     },
     "execution_count": 32,
     "metadata": {},
     "output_type": "execute_result"
    }
   ],
   "source": [
    "df.groupby('rmse').min().head()"
   ]
  },
  {
   "cell_type": "code",
   "execution_count": 33,
   "metadata": {},
   "outputs": [
    {
     "name": "stdout",
     "output_type": "stream",
     "text": [
      "models are same\n"
     ]
    }
   ],
   "source": [
    "model_mse = [m for m in models if m == df.groupby('mse').min().iloc[0]['model']][0] \n",
    "\n",
    "model_rmse = [m for m in models if m == df.groupby('rmse').min().iloc[0]['model']][0]\n",
    "\n",
    "if model_rmse == model_mse:\n",
    "    model = model_rmse\n",
    "    print(\"models are same\")\n",
    "else:\n",
    "    print(\"models arenot same\")"
   ]
  },
  {
   "cell_type": "code",
   "execution_count": 34,
   "metadata": {},
   "outputs": [
    {
     "data": {
      "text/html": [
       "<div>\n",
       "<style scoped>\n",
       "    .dataframe tbody tr th:only-of-type {\n",
       "        vertical-align: middle;\n",
       "    }\n",
       "\n",
       "    .dataframe tbody tr th {\n",
       "        vertical-align: top;\n",
       "    }\n",
       "\n",
       "    .dataframe thead th {\n",
       "        text-align: right;\n",
       "    }\n",
       "</style>\n",
       "<table border=\"1\" class=\"dataframe\">\n",
       "  <thead>\n",
       "    <tr style=\"text-align: right;\">\n",
       "      <th></th>\n",
       "      <th>rank_</th>\n",
       "      <th>iteration</th>\n",
       "      <th>regParam_</th>\n",
       "      <th>predictions</th>\n",
       "      <th>rmse</th>\n",
       "      <th>mse</th>\n",
       "    </tr>\n",
       "  </thead>\n",
       "  <tbody>\n",
       "    <tr>\n",
       "      <th>10</th>\n",
       "      <td>50</td>\n",
       "      <td>20</td>\n",
       "      <td>0.1</td>\n",
       "      <td>DataFrame[movie_id: int, user_id: int, rating:...</td>\n",
       "      <td>0.830046</td>\n",
       "      <td>0.688977</td>\n",
       "    </tr>\n",
       "  </tbody>\n",
       "</table>\n",
       "</div>"
      ],
      "text/plain": [
       "    rank_  iteration  regParam_  \\\n",
       "10     50         20        0.1   \n",
       "\n",
       "                                          predictions      rmse       mse  \n",
       "10  DataFrame[movie_id: int, user_id: int, rating:...  0.830046  0.688977  "
      ]
     },
     "execution_count": 34,
     "metadata": {},
     "output_type": "execute_result"
    }
   ],
   "source": [
    "df[df['model'] == model].drop(columns=['model'])"
   ]
  },
  {
   "cell_type": "code",
   "execution_count": 37,
   "metadata": {},
   "outputs": [
    {
     "data": {
      "text/plain": [
       "[Row(movie_id=32, user_id=5518, rating=4.5, movie_index=139.0, user_index=2671.0, predictions=3.6970267295837402),\n",
       " Row(movie_id=41, user_id=41409, rating=3.0, movie_index=333.0, user_index=7777.0, predictions=3.1937365531921387),\n",
       " Row(movie_id=41, user_id=42834, rating=2.5, movie_index=333.0, user_index=111.0, predictions=2.562786340713501),\n",
       " Row(movie_id=42, user_id=38723, rating=5.0, movie_index=54.0, user_index=3524.0, predictions=4.469514846801758),\n",
       " Row(movie_id=86, user_id=1580, rating=3.5, movie_index=67.0, user_index=10474.0, predictions=3.9917402267456055),\n",
       " Row(movie_id=86, user_id=29719, rating=5.0, movie_index=67.0, user_index=2904.0, predictions=3.6649973392486572),\n",
       " Row(movie_id=86, user_id=32396, rating=4.0, movie_index=67.0, user_index=1724.0, predictions=3.878227949142456),\n",
       " Row(movie_id=123, user_id=38311, rating=4.0, movie_index=250.0, user_index=2710.0, predictions=3.7202627658843994),\n",
       " Row(movie_id=135, user_id=28170, rating=3.0, movie_index=608.0, user_index=4572.0, predictions=3.2351741790771484),\n",
       " Row(movie_id=135, user_id=31983, rating=4.5, movie_index=608.0, user_index=418.0, predictions=3.9276070594787598)]"
      ]
     },
     "execution_count": 37,
     "metadata": {},
     "output_type": "execute_result"
    }
   ],
   "source": [
    "predictions = df[df['model'] == model]['predictions'].values[0]\n",
    "predictions.take(10)"
   ]
  },
  {
   "cell_type": "code",
   "execution_count": 124,
   "metadata": {},
   "outputs": [],
   "source": [
    "ppredictions = predictions.select(['rating', 'predictions'])\n",
    "\n",
    "prediction_df = predictions.toPandas()\n",
    "\n",
    "sorted_df = prediction_df.sort_values(by='rating')\n",
    "sorted_df = sorted_df.sort_values(by='predictions')"
   ]
  },
  {
   "cell_type": "code",
   "execution_count": 145,
   "metadata": {},
   "outputs": [
    {
     "data": {
      "image/png": "[encoded data removed]",
      "text/plain": [
       "<Figure size 640x480 with 1 Axes>"
      ]
     },
     "metadata": {},
     "output_type": "display_data"
    }
   ],
   "source": [
    "errors = [real - predicted for real, predicted in zip(sorted_df['rating'].values, sorted_df['predictions'].values)]\n",
    "\n",
    "plt.hist(errors, bins=30, edgecolor='black')\n",
    "plt.xlabel('Error (true - predict)')\n",
    "plt.ylabel('Frekans')\n",
    "plt.show()"
   ]
  },
  {
   "cell_type": "code",
   "execution_count": 87,
   "metadata": {},
   "outputs": [
    {
     "name": "stdout",
     "output_type": "stream",
     "text": [
      "+---+--------------------+\n",
      "| id|            features|\n",
      "+---+--------------------+\n",
      "| 10|[-0.1115754, -0.3...|\n",
      "| 20|[0.08406281, -0.1...|\n",
      "| 30|[-0.06146804, -0....|\n",
      "| 40|[-0.109934196, -0...|\n",
      "| 50|[-0.040442705, 0....|\n",
      "+---+--------------------+\n",
      "only showing top 5 rows\n",
      "\n"
     ]
    },
    {
     "data": {
      "text/html": [
       "<div>\n",
       "<style scoped>\n",
       "    .dataframe tbody tr th:only-of-type {\n",
       "        vertical-align: middle;\n",
       "    }\n",
       "\n",
       "    .dataframe tbody tr th {\n",
       "        vertical-align: top;\n",
       "    }\n",
       "\n",
       "    .dataframe thead th {\n",
       "        text-align: right;\n",
       "    }\n",
       "</style>\n",
       "<table border=\"1\" class=\"dataframe\">\n",
       "  <thead>\n",
       "    <tr style=\"text-align: right;\">\n",
       "      <th></th>\n",
       "      <th>movie_title</th>\n",
       "      <th>movie_id</th>\n",
       "      <th>cosine_similarity</th>\n",
       "    </tr>\n",
       "  </thead>\n",
       "  <tbody>\n",
       "    <tr>\n",
       "      <th>0</th>\n",
       "      <td>11 Flowers (Wo 11) (2011)</td>\n",
       "      <td>100</td>\n",
       "      <td>1.000000</td>\n",
       "    </tr>\n",
       "    <tr>\n",
       "      <th>1</th>\n",
       "      <td>Kút (2016)</td>\n",
       "      <td>8842</td>\n",
       "      <td>0.932072</td>\n",
       "    </tr>\n",
       "    <tr>\n",
       "      <th>2</th>\n",
       "      <td>Very Big Shot (2015)</td>\n",
       "      <td>6804</td>\n",
       "      <td>0.916926</td>\n",
       "    </tr>\n",
       "    <tr>\n",
       "      <th>3</th>\n",
       "      <td>Gabo: The Creation of Gabriel Gracia Marquez (...</td>\n",
       "      <td>5518</td>\n",
       "      <td>0.916215</td>\n",
       "    </tr>\n",
       "    <tr>\n",
       "      <th>4</th>\n",
       "      <td>Wonderful Losers: A Different World (2017)</td>\n",
       "      <td>10690</td>\n",
       "      <td>0.916014</td>\n",
       "    </tr>\n",
       "    <tr>\n",
       "      <th>5</th>\n",
       "      <td>The Man Who Saw Too Much (2015)</td>\n",
       "      <td>10398</td>\n",
       "      <td>0.915375</td>\n",
       "    </tr>\n",
       "    <tr>\n",
       "      <th>6</th>\n",
       "      <td>Distant Sky - Nick Cave &amp; The Bad Seeds Live i...</td>\n",
       "      <td>10740</td>\n",
       "      <td>0.914036</td>\n",
       "    </tr>\n",
       "    <tr>\n",
       "      <th>7</th>\n",
       "      <td>Felices 140 (2015)</td>\n",
       "      <td>3717</td>\n",
       "      <td>0.913544</td>\n",
       "    </tr>\n",
       "    <tr>\n",
       "      <th>8</th>\n",
       "      <td>We Cause Scenes (2014)</td>\n",
       "      <td>1665</td>\n",
       "      <td>0.913215</td>\n",
       "    </tr>\n",
       "    <tr>\n",
       "      <th>9</th>\n",
       "      <td>The Role (2013)</td>\n",
       "      <td>12858</td>\n",
       "      <td>0.913037</td>\n",
       "    </tr>\n",
       "    <tr>\n",
       "      <th>10</th>\n",
       "      <td>Grass (2018)</td>\n",
       "      <td>13025</td>\n",
       "      <td>0.912032</td>\n",
       "    </tr>\n",
       "  </tbody>\n",
       "</table>\n",
       "</div>"
      ],
      "text/plain": [
       "                                          movie_title  movie_id  \\\n",
       "0                           11 Flowers (Wo 11) (2011)       100   \n",
       "1                                          Kút (2016)      8842   \n",
       "2                                Very Big Shot (2015)      6804   \n",
       "3   Gabo: The Creation of Gabriel Gracia Marquez (...      5518   \n",
       "4          Wonderful Losers: A Different World (2017)     10690   \n",
       "5                     The Man Who Saw Too Much (2015)     10398   \n",
       "6   Distant Sky - Nick Cave & The Bad Seeds Live i...     10740   \n",
       "7                                  Felices 140 (2015)      3717   \n",
       "8                              We Cause Scenes (2014)      1665   \n",
       "9                                     The Role (2013)     12858   \n",
       "10                                       Grass (2018)     13025   \n",
       "\n",
       "    cosine_similarity  \n",
       "0            1.000000  \n",
       "1            0.932072  \n",
       "2            0.916926  \n",
       "3            0.916215  \n",
       "4            0.916014  \n",
       "5            0.915375  \n",
       "6            0.914036  \n",
       "7            0.913544  \n",
       "8            0.913215  \n",
       "9            0.913037  \n",
       "10           0.912032  "
      ]
     },
     "execution_count": 87,
     "metadata": {},
     "output_type": "execute_result"
    }
   ],
   "source": [
    "item_object = ItemSimilarity(movie_title=movie_title)\n",
    "\n",
    "similar_items_df = item_object.item_similarity(model=model, item_id=100, item_number=10)\n",
    "\n",
    "similar_items_df['movie_title'] = similar_items_df['movie_id'].apply(item_object.id_to_movie)\n",
    "similar_items_df[['movie_title', 'movie_id', 'cosine_similarity']]"
   ]
  },
  {
   "cell_type": "code",
   "execution_count": 42,
   "metadata": {},
   "outputs": [
    {
     "name": "stdout",
     "output_type": "stream",
     "text": [
      "+---+--------------------+\n",
      "| id|            features|\n",
      "+---+--------------------+\n",
      "| 10|[-0.19535793, -0....|\n",
      "| 20|[0.19925913, -0.0...|\n",
      "| 30|[-0.19535793, -0....|\n",
      "| 40|[-0.040772002, -0...|\n",
      "| 50|[0.01873152, -0.2...|\n",
      "+---+--------------------+\n",
      "only showing top 5 rows\n",
      "\n"
     ]
    },
    {
     "data": {
      "text/html": [
       "<div>\n",
       "<style scoped>\n",
       "    .dataframe tbody tr th:only-of-type {\n",
       "        vertical-align: middle;\n",
       "    }\n",
       "\n",
       "    .dataframe tbody tr th {\n",
       "        vertical-align: top;\n",
       "    }\n",
       "\n",
       "    .dataframe thead th {\n",
       "        text-align: right;\n",
       "    }\n",
       "</style>\n",
       "<table border=\"1\" class=\"dataframe\">\n",
       "  <thead>\n",
       "    <tr style=\"text-align: right;\">\n",
       "      <th></th>\n",
       "      <th>user_id</th>\n",
       "      <th>cosine_similarity</th>\n",
       "    </tr>\n",
       "  </thead>\n",
       "  <tbody>\n",
       "    <tr>\n",
       "      <th>0</th>\n",
       "      <td>100</td>\n",
       "      <td>1.000000</td>\n",
       "    </tr>\n",
       "    <tr>\n",
       "      <th>1</th>\n",
       "      <td>6267</td>\n",
       "      <td>0.991330</td>\n",
       "    </tr>\n",
       "    <tr>\n",
       "      <th>2</th>\n",
       "      <td>37210</td>\n",
       "      <td>0.991330</td>\n",
       "    </tr>\n",
       "    <tr>\n",
       "      <th>3</th>\n",
       "      <td>6113</td>\n",
       "      <td>0.991330</td>\n",
       "    </tr>\n",
       "    <tr>\n",
       "      <th>4</th>\n",
       "      <td>26530</td>\n",
       "      <td>0.991330</td>\n",
       "    </tr>\n",
       "    <tr>\n",
       "      <th>5</th>\n",
       "      <td>4150</td>\n",
       "      <td>0.989788</td>\n",
       "    </tr>\n",
       "    <tr>\n",
       "      <th>6</th>\n",
       "      <td>9902</td>\n",
       "      <td>0.978346</td>\n",
       "    </tr>\n",
       "    <tr>\n",
       "      <th>7</th>\n",
       "      <td>15150</td>\n",
       "      <td>0.975297</td>\n",
       "    </tr>\n",
       "    <tr>\n",
       "      <th>8</th>\n",
       "      <td>23131</td>\n",
       "      <td>0.970824</td>\n",
       "    </tr>\n",
       "    <tr>\n",
       "      <th>9</th>\n",
       "      <td>36524</td>\n",
       "      <td>0.965967</td>\n",
       "    </tr>\n",
       "    <tr>\n",
       "      <th>10</th>\n",
       "      <td>9816</td>\n",
       "      <td>0.962586</td>\n",
       "    </tr>\n",
       "  </tbody>\n",
       "</table>\n",
       "</div>"
      ],
      "text/plain": [
       "    user_id  cosine_similarity\n",
       "0       100           1.000000\n",
       "1      6267           0.991330\n",
       "2     37210           0.991330\n",
       "3      6113           0.991330\n",
       "4     26530           0.991330\n",
       "5      4150           0.989788\n",
       "6      9902           0.978346\n",
       "7     15150           0.975297\n",
       "8     23131           0.970824\n",
       "9     36524           0.965967\n",
       "10     9816           0.962586"
      ]
     },
     "execution_count": 42,
     "metadata": {},
     "output_type": "execute_result"
    }
   ],
   "source": [
    "similar_users_df = UserSimilarity.user_similarity(model, user_id=100, user_number=10)\n",
    "similar_users_df.drop(columns=['vectors'])"
   ]
  },
  {
   "cell_type": "code",
   "execution_count": 43,
   "metadata": {},
   "outputs": [
    {
     "data": {
      "text/html": [
       "<div>\n",
       "<style scoped>\n",
       "    .dataframe tbody tr th:only-of-type {\n",
       "        vertical-align: middle;\n",
       "    }\n",
       "\n",
       "    .dataframe tbody tr th {\n",
       "        vertical-align: top;\n",
       "    }\n",
       "\n",
       "    .dataframe thead th {\n",
       "        text-align: right;\n",
       "    }\n",
       "</style>\n",
       "<table border=\"1\" class=\"dataframe\">\n",
       "  <thead>\n",
       "    <tr style=\"text-align: right;\">\n",
       "      <th></th>\n",
       "      <th>userId</th>\n",
       "      <th>movieRating</th>\n",
       "      <th>movie_title</th>\n",
       "    </tr>\n",
       "  </thead>\n",
       "  <tbody>\n",
       "    <tr>\n",
       "      <th>0</th>\n",
       "      <td>100.0</td>\n",
       "      <td>4.736914</td>\n",
       "      <td>NOFX Backstage Passport 2</td>\n",
       "    </tr>\n",
       "    <tr>\n",
       "      <th>1</th>\n",
       "      <td>100.0</td>\n",
       "      <td>4.632453</td>\n",
       "      <td>ReMoved (2013)</td>\n",
       "    </tr>\n",
       "    <tr>\n",
       "      <th>2</th>\n",
       "      <td>100.0</td>\n",
       "      <td>4.521463</td>\n",
       "      <td>Fifi Howls from Happiness (2013)</td>\n",
       "    </tr>\n",
       "    <tr>\n",
       "      <th>3</th>\n",
       "      <td>100.0</td>\n",
       "      <td>4.506836</td>\n",
       "      <td>The Good Mother (2013)</td>\n",
       "    </tr>\n",
       "    <tr>\n",
       "      <th>4</th>\n",
       "      <td>100.0</td>\n",
       "      <td>4.461688</td>\n",
       "      <td>Obey Giant (2017)</td>\n",
       "    </tr>\n",
       "    <tr>\n",
       "      <th>5</th>\n",
       "      <td>100.0</td>\n",
       "      <td>4.424143</td>\n",
       "      <td>Once Upon a Time in Hollywood (2019)</td>\n",
       "    </tr>\n",
       "    <tr>\n",
       "      <th>6</th>\n",
       "      <td>100.0</td>\n",
       "      <td>4.392559</td>\n",
       "      <td>Truth and Justice (2019)</td>\n",
       "    </tr>\n",
       "    <tr>\n",
       "      <th>7</th>\n",
       "      <td>100.0</td>\n",
       "      <td>4.201278</td>\n",
       "      <td>Once Upon a Ladder (2016)</td>\n",
       "    </tr>\n",
       "    <tr>\n",
       "      <th>8</th>\n",
       "      <td>100.0</td>\n",
       "      <td>4.175925</td>\n",
       "      <td>La vie nous appartient (2016)</td>\n",
       "    </tr>\n",
       "    <tr>\n",
       "      <th>9</th>\n",
       "      <td>100.0</td>\n",
       "      <td>4.162373</td>\n",
       "      <td>Punk the Capital: Building a Sound Movement</td>\n",
       "    </tr>\n",
       "  </tbody>\n",
       "</table>\n",
       "</div>"
      ],
      "text/plain": [
       "   userId  movieRating                                  movie_title\n",
       "0   100.0     4.736914                    NOFX Backstage Passport 2\n",
       "1   100.0     4.632453                               ReMoved (2013)\n",
       "2   100.0     4.521463             Fifi Howls from Happiness (2013)\n",
       "3   100.0     4.506836                       The Good Mother (2013)\n",
       "4   100.0     4.461688                            Obey Giant (2017)\n",
       "5   100.0     4.424143         Once Upon a Time in Hollywood (2019)\n",
       "6   100.0     4.392559                     Truth and Justice (2019)\n",
       "7   100.0     4.201278                    Once Upon a Ladder (2016)\n",
       "8   100.0     4.175925                La vie nous appartient (2016)\n",
       "9   100.0     4.162373  Punk the Capital: Building a Sound Movement"
      ]
     },
     "execution_count": 43,
     "metadata": {},
     "output_type": "execute_result"
    }
   ],
   "source": [
    "user_recs = model.recommendForAllUsers(numItems=10)\n",
    "movie_recommendation = user_recs.where(user_recs.user_id == 100).select(\"recommendations.movie_id\", \"recommendations.rating\").collect()\n",
    "\n",
    "movie_df = pd.DataFrame(columns=[\"userId\", 'movieId', 'movieRating'])\n",
    "\n",
    "movie_id = movie_recommendation[0][0]\n",
    "movie_rating = movie_recommendation[0][1]\n",
    "\n",
    "for id_, rating in zip(movie_id, movie_rating):\n",
    "    movie_df.loc[len(movie_df)] = [100, id_, rating]\n",
    "\n",
    "movie_df['movie_title'] = movie_df['movieId'].apply(item_object.id_to_movie)\n",
    "\n",
    "movie_df = movie_df.drop(columns=['movieId'])\n",
    "\n",
    "movie_df"
   ]
  },
  {
   "cell_type": "code",
   "execution_count": 44,
   "metadata": {},
   "outputs": [
    {
     "data": {
      "text/html": [
       "<div>\n",
       "<style scoped>\n",
       "    .dataframe tbody tr th:only-of-type {\n",
       "        vertical-align: middle;\n",
       "    }\n",
       "\n",
       "    .dataframe tbody tr th {\n",
       "        vertical-align: top;\n",
       "    }\n",
       "\n",
       "    .dataframe thead th {\n",
       "        text-align: right;\n",
       "    }\n",
       "</style>\n",
       "<table border=\"1\" class=\"dataframe\">\n",
       "  <thead>\n",
       "    <tr style=\"text-align: right;\">\n",
       "      <th></th>\n",
       "      <th>movie_title</th>\n",
       "      <th>userId</th>\n",
       "      <th>movieRating</th>\n",
       "    </tr>\n",
       "  </thead>\n",
       "  <tbody>\n",
       "    <tr>\n",
       "      <th>0</th>\n",
       "      <td>11 Flowers (Wo 11) (2011)</td>\n",
       "      <td>25449</td>\n",
       "      <td>5.060557</td>\n",
       "    </tr>\n",
       "    <tr>\n",
       "      <th>1</th>\n",
       "      <td>11 Flowers (Wo 11) (2011)</td>\n",
       "      <td>24284</td>\n",
       "      <td>5.029696</td>\n",
       "    </tr>\n",
       "    <tr>\n",
       "      <th>2</th>\n",
       "      <td>11 Flowers (Wo 11) (2011)</td>\n",
       "      <td>28973</td>\n",
       "      <td>5.025539</td>\n",
       "    </tr>\n",
       "    <tr>\n",
       "      <th>3</th>\n",
       "      <td>11 Flowers (Wo 11) (2011)</td>\n",
       "      <td>42643</td>\n",
       "      <td>5.005495</td>\n",
       "    </tr>\n",
       "    <tr>\n",
       "      <th>4</th>\n",
       "      <td>11 Flowers (Wo 11) (2011)</td>\n",
       "      <td>37642</td>\n",
       "      <td>4.993147</td>\n",
       "    </tr>\n",
       "    <tr>\n",
       "      <th>5</th>\n",
       "      <td>11 Flowers (Wo 11) (2011)</td>\n",
       "      <td>39044</td>\n",
       "      <td>4.972250</td>\n",
       "    </tr>\n",
       "    <tr>\n",
       "      <th>6</th>\n",
       "      <td>11 Flowers (Wo 11) (2011)</td>\n",
       "      <td>8356</td>\n",
       "      <td>4.914187</td>\n",
       "    </tr>\n",
       "    <tr>\n",
       "      <th>7</th>\n",
       "      <td>11 Flowers (Wo 11) (2011)</td>\n",
       "      <td>33794</td>\n",
       "      <td>4.883769</td>\n",
       "    </tr>\n",
       "    <tr>\n",
       "      <th>8</th>\n",
       "      <td>11 Flowers (Wo 11) (2011)</td>\n",
       "      <td>29861</td>\n",
       "      <td>4.880843</td>\n",
       "    </tr>\n",
       "    <tr>\n",
       "      <th>9</th>\n",
       "      <td>11 Flowers (Wo 11) (2011)</td>\n",
       "      <td>34101</td>\n",
       "      <td>4.863043</td>\n",
       "    </tr>\n",
       "  </tbody>\n",
       "</table>\n",
       "</div>"
      ],
      "text/plain": [
       "                 movie_title  userId  movieRating\n",
       "0  11 Flowers (Wo 11) (2011)   25449     5.060557\n",
       "1  11 Flowers (Wo 11) (2011)   24284     5.029696\n",
       "2  11 Flowers (Wo 11) (2011)   28973     5.025539\n",
       "3  11 Flowers (Wo 11) (2011)   42643     5.005495\n",
       "4  11 Flowers (Wo 11) (2011)   37642     4.993147\n",
       "5  11 Flowers (Wo 11) (2011)   39044     4.972250\n",
       "6  11 Flowers (Wo 11) (2011)    8356     4.914187\n",
       "7  11 Flowers (Wo 11) (2011)   33794     4.883769\n",
       "8  11 Flowers (Wo 11) (2011)   29861     4.880843\n",
       "9  11 Flowers (Wo 11) (2011)   34101     4.863043"
      ]
     },
     "execution_count": 44,
     "metadata": {},
     "output_type": "execute_result"
    }
   ],
   "source": [
    "item_recs = model.recommendForAllItems(numUsers=10)\n",
    "user_recommendation = item_recs.where(item_recs.movie_id == 100).select(\"recommendations.user_id\", \"recommendations.rating\").collect()\n",
    "\n",
    "user_df = pd.DataFrame(columns=['movie_title', 'userId', 'movieRating'])\n",
    "\n",
    "user_id = user_recommendation[0][0]\n",
    "movie_rating = user_recommendation[0][1]\n",
    "\n",
    "for id_, rating in zip(user_id, movie_rating):\n",
    "    user_df.loc[len(user_df)] = [item_object.id_to_movie(100), id_, rating]\n",
    "\n",
    "user_df"
   ]
  },
  {
   "cell_type": "code",
   "execution_count": null,
   "metadata": {},
   "outputs": [],
   "source": [
    "spark.stop()"
   ]
  }
 ],
 "metadata": {
  "kernelspec": {
   "display_name": "base",
   "language": "python",
   "name": "python3"
  },
  "language_info": {
   "codemirror_mode": {
    "name": "ipython",
    "version": 3
   },
   "file_extension": ".py",
   "mimetype": "text/x-python",
   "name": "python",
   "nbconvert_exporter": "python",
   "pygments_lexer": "ipython3",
   "version": "3.10.9"
  }
 },
 "nbformat": 4,
 "nbformat_minor": 2
}
